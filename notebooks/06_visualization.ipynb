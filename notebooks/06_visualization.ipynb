{
 "cells": [
  {
   "cell_type": "code",
   "execution_count": 18,
   "id": "9665d918-da54-49ad-9cae-ee8ead849e43",
   "metadata": {},
   "outputs": [
    {
     "name": "stdout",
     "output_type": "stream",
     "text": [
      "The autoreload extension is already loaded. To reload it, use:\n",
      "  %reload_ext autoreload\n"
     ]
    }
   ],
   "source": [
    "%load_ext autoreload\n",
    "%autoreload 2"
   ]
  },
  {
   "cell_type": "code",
   "execution_count": 19,
   "id": "9560d27c-251c-4d52-b6f0-f63cec5c9cdb",
   "metadata": {},
   "outputs": [],
   "source": [
    "import sys\n",
    "import os\n",
    "\n",
    "# Add the parent directory to the Python path\n",
    "sys.path.append(os.path.abspath(os.path.join(os.getcwd(), \"..\")))"
   ]
  },
  {
   "cell_type": "code",
   "execution_count": 20,
   "id": "7376476c-d517-4dd2-92b1-0207259a9f37",
   "metadata": {},
   "outputs": [],
   "source": [
    "import pandas as pd\n",
    "\n",
    "from src.config import TRANSFORMED_DATA_DIR\n",
    "\n",
    "features_and_targets = pd.read_parquet(TRANSFORMED_DATA_DIR / \"tabular_data.parquet\")"
   ]
  },
  {
   "cell_type": "code",
   "execution_count": 21,
   "id": "3ae58192-3d28-44f4-9dae-86ea16e675a3",
   "metadata": {},
   "outputs": [],
   "source": [
    "features = features_and_targets.iloc[:, :-1]\n",
    "targets = features_and_targets[\"target\"]"
   ]
  },
  {
   "cell_type": "code",
   "execution_count": 22,
   "id": "715125fe-d888-48ad-ab6b-b4085f12b81c",
   "metadata": {},
   "outputs": [
    {
     "data": {
      "text/html": [
       "<div>\n",
       "<style scoped>\n",
       "    .dataframe tbody tr th:only-of-type {\n",
       "        vertical-align: middle;\n",
       "    }\n",
       "\n",
       "    .dataframe tbody tr th {\n",
       "        vertical-align: top;\n",
       "    }\n",
       "\n",
       "    .dataframe thead th {\n",
       "        text-align: right;\n",
       "    }\n",
       "</style>\n",
       "<table border=\"1\" class=\"dataframe\">\n",
       "  <thead>\n",
       "    <tr style=\"text-align: right;\">\n",
       "      <th></th>\n",
       "      <th>rides_t-168</th>\n",
       "      <th>rides_t-167</th>\n",
       "      <th>rides_t-166</th>\n",
       "      <th>rides_t-165</th>\n",
       "      <th>rides_t-164</th>\n",
       "      <th>rides_t-163</th>\n",
       "      <th>rides_t-162</th>\n",
       "      <th>rides_t-161</th>\n",
       "      <th>rides_t-160</th>\n",
       "      <th>rides_t-159</th>\n",
       "      <th>...</th>\n",
       "      <th>rides_t-8</th>\n",
       "      <th>rides_t-7</th>\n",
       "      <th>rides_t-6</th>\n",
       "      <th>rides_t-5</th>\n",
       "      <th>rides_t-4</th>\n",
       "      <th>rides_t-3</th>\n",
       "      <th>rides_t-2</th>\n",
       "      <th>rides_t-1</th>\n",
       "      <th>pickup_hour</th>\n",
       "      <th>pickup_location_id</th>\n",
       "    </tr>\n",
       "  </thead>\n",
       "  <tbody>\n",
       "    <tr>\n",
       "      <th>0</th>\n",
       "      <td>4</td>\n",
       "      <td>42</td>\n",
       "      <td>9</td>\n",
       "      <td>40</td>\n",
       "      <td>76</td>\n",
       "      <td>65</td>\n",
       "      <td>30</td>\n",
       "      <td>4</td>\n",
       "      <td>40</td>\n",
       "      <td>73</td>\n",
       "      <td>...</td>\n",
       "      <td>150</td>\n",
       "      <td>106</td>\n",
       "      <td>60</td>\n",
       "      <td>25</td>\n",
       "      <td>3</td>\n",
       "      <td>28</td>\n",
       "      <td>37</td>\n",
       "      <td>49</td>\n",
       "      <td>2024-01-28 20:00:00</td>\n",
       "      <td>5626</td>\n",
       "    </tr>\n",
       "    <tr>\n",
       "      <th>1</th>\n",
       "      <td>42</td>\n",
       "      <td>9</td>\n",
       "      <td>40</td>\n",
       "      <td>76</td>\n",
       "      <td>65</td>\n",
       "      <td>30</td>\n",
       "      <td>4</td>\n",
       "      <td>40</td>\n",
       "      <td>73</td>\n",
       "      <td>68</td>\n",
       "      <td>...</td>\n",
       "      <td>106</td>\n",
       "      <td>60</td>\n",
       "      <td>25</td>\n",
       "      <td>3</td>\n",
       "      <td>28</td>\n",
       "      <td>37</td>\n",
       "      <td>49</td>\n",
       "      <td>40</td>\n",
       "      <td>2024-01-29 00:00:00</td>\n",
       "      <td>5626</td>\n",
       "    </tr>\n",
       "    <tr>\n",
       "      <th>2</th>\n",
       "      <td>9</td>\n",
       "      <td>40</td>\n",
       "      <td>76</td>\n",
       "      <td>65</td>\n",
       "      <td>30</td>\n",
       "      <td>4</td>\n",
       "      <td>40</td>\n",
       "      <td>73</td>\n",
       "      <td>68</td>\n",
       "      <td>87</td>\n",
       "      <td>...</td>\n",
       "      <td>60</td>\n",
       "      <td>25</td>\n",
       "      <td>3</td>\n",
       "      <td>28</td>\n",
       "      <td>37</td>\n",
       "      <td>49</td>\n",
       "      <td>40</td>\n",
       "      <td>10</td>\n",
       "      <td>2024-01-29 04:00:00</td>\n",
       "      <td>5626</td>\n",
       "    </tr>\n",
       "    <tr>\n",
       "      <th>3</th>\n",
       "      <td>40</td>\n",
       "      <td>76</td>\n",
       "      <td>65</td>\n",
       "      <td>30</td>\n",
       "      <td>4</td>\n",
       "      <td>40</td>\n",
       "      <td>73</td>\n",
       "      <td>68</td>\n",
       "      <td>87</td>\n",
       "      <td>43</td>\n",
       "      <td>...</td>\n",
       "      <td>25</td>\n",
       "      <td>3</td>\n",
       "      <td>28</td>\n",
       "      <td>37</td>\n",
       "      <td>49</td>\n",
       "      <td>40</td>\n",
       "      <td>10</td>\n",
       "      <td>25</td>\n",
       "      <td>2024-01-29 08:00:00</td>\n",
       "      <td>5626</td>\n",
       "    </tr>\n",
       "    <tr>\n",
       "      <th>4</th>\n",
       "      <td>76</td>\n",
       "      <td>65</td>\n",
       "      <td>30</td>\n",
       "      <td>4</td>\n",
       "      <td>40</td>\n",
       "      <td>73</td>\n",
       "      <td>68</td>\n",
       "      <td>87</td>\n",
       "      <td>43</td>\n",
       "      <td>9</td>\n",
       "      <td>...</td>\n",
       "      <td>3</td>\n",
       "      <td>28</td>\n",
       "      <td>37</td>\n",
       "      <td>49</td>\n",
       "      <td>40</td>\n",
       "      <td>10</td>\n",
       "      <td>25</td>\n",
       "      <td>89</td>\n",
       "      <td>2024-01-29 12:00:00</td>\n",
       "      <td>5626</td>\n",
       "    </tr>\n",
       "    <tr>\n",
       "      <th>...</th>\n",
       "      <td>...</td>\n",
       "      <td>...</td>\n",
       "      <td>...</td>\n",
       "      <td>...</td>\n",
       "      <td>...</td>\n",
       "      <td>...</td>\n",
       "      <td>...</td>\n",
       "      <td>...</td>\n",
       "      <td>...</td>\n",
       "      <td>...</td>\n",
       "      <td>...</td>\n",
       "      <td>...</td>\n",
       "      <td>...</td>\n",
       "      <td>...</td>\n",
       "      <td>...</td>\n",
       "      <td>...</td>\n",
       "      <td>...</td>\n",
       "      <td>...</td>\n",
       "      <td>...</td>\n",
       "      <td>...</td>\n",
       "      <td>...</td>\n",
       "    </tr>\n",
       "    <tr>\n",
       "      <th>2024</th>\n",
       "      <td>69</td>\n",
       "      <td>146</td>\n",
       "      <td>127</td>\n",
       "      <td>178</td>\n",
       "      <td>92</td>\n",
       "      <td>13</td>\n",
       "      <td>66</td>\n",
       "      <td>177</td>\n",
       "      <td>125</td>\n",
       "      <td>158</td>\n",
       "      <td>...</td>\n",
       "      <td>55</td>\n",
       "      <td>13</td>\n",
       "      <td>21</td>\n",
       "      <td>96</td>\n",
       "      <td>157</td>\n",
       "      <td>120</td>\n",
       "      <td>82</td>\n",
       "      <td>35</td>\n",
       "      <td>2024-12-31 04:00:00</td>\n",
       "      <td>5626</td>\n",
       "    </tr>\n",
       "    <tr>\n",
       "      <th>2025</th>\n",
       "      <td>146</td>\n",
       "      <td>127</td>\n",
       "      <td>178</td>\n",
       "      <td>92</td>\n",
       "      <td>13</td>\n",
       "      <td>66</td>\n",
       "      <td>177</td>\n",
       "      <td>125</td>\n",
       "      <td>158</td>\n",
       "      <td>70</td>\n",
       "      <td>...</td>\n",
       "      <td>13</td>\n",
       "      <td>21</td>\n",
       "      <td>96</td>\n",
       "      <td>157</td>\n",
       "      <td>120</td>\n",
       "      <td>82</td>\n",
       "      <td>35</td>\n",
       "      <td>22</td>\n",
       "      <td>2024-12-31 08:00:00</td>\n",
       "      <td>5626</td>\n",
       "    </tr>\n",
       "    <tr>\n",
       "      <th>2026</th>\n",
       "      <td>127</td>\n",
       "      <td>178</td>\n",
       "      <td>92</td>\n",
       "      <td>13</td>\n",
       "      <td>66</td>\n",
       "      <td>177</td>\n",
       "      <td>125</td>\n",
       "      <td>158</td>\n",
       "      <td>70</td>\n",
       "      <td>8</td>\n",
       "      <td>...</td>\n",
       "      <td>21</td>\n",
       "      <td>96</td>\n",
       "      <td>157</td>\n",
       "      <td>120</td>\n",
       "      <td>82</td>\n",
       "      <td>35</td>\n",
       "      <td>22</td>\n",
       "      <td>78</td>\n",
       "      <td>2024-12-31 12:00:00</td>\n",
       "      <td>5626</td>\n",
       "    </tr>\n",
       "    <tr>\n",
       "      <th>2027</th>\n",
       "      <td>178</td>\n",
       "      <td>92</td>\n",
       "      <td>13</td>\n",
       "      <td>66</td>\n",
       "      <td>177</td>\n",
       "      <td>125</td>\n",
       "      <td>158</td>\n",
       "      <td>70</td>\n",
       "      <td>8</td>\n",
       "      <td>55</td>\n",
       "      <td>...</td>\n",
       "      <td>96</td>\n",
       "      <td>157</td>\n",
       "      <td>120</td>\n",
       "      <td>82</td>\n",
       "      <td>35</td>\n",
       "      <td>22</td>\n",
       "      <td>78</td>\n",
       "      <td>145</td>\n",
       "      <td>2024-12-31 16:00:00</td>\n",
       "      <td>5626</td>\n",
       "    </tr>\n",
       "    <tr>\n",
       "      <th>2028</th>\n",
       "      <td>92</td>\n",
       "      <td>13</td>\n",
       "      <td>66</td>\n",
       "      <td>177</td>\n",
       "      <td>125</td>\n",
       "      <td>158</td>\n",
       "      <td>70</td>\n",
       "      <td>8</td>\n",
       "      <td>55</td>\n",
       "      <td>189</td>\n",
       "      <td>...</td>\n",
       "      <td>157</td>\n",
       "      <td>120</td>\n",
       "      <td>82</td>\n",
       "      <td>35</td>\n",
       "      <td>22</td>\n",
       "      <td>78</td>\n",
       "      <td>145</td>\n",
       "      <td>143</td>\n",
       "      <td>2024-12-31 20:00:00</td>\n",
       "      <td>5626</td>\n",
       "    </tr>\n",
       "  </tbody>\n",
       "</table>\n",
       "<p>2029 rows × 170 columns</p>\n",
       "</div>"
      ],
      "text/plain": [
       "      rides_t-168  rides_t-167  rides_t-166  rides_t-165  rides_t-164  \\\n",
       "0               4           42            9           40           76   \n",
       "1              42            9           40           76           65   \n",
       "2               9           40           76           65           30   \n",
       "3              40           76           65           30            4   \n",
       "4              76           65           30            4           40   \n",
       "...           ...          ...          ...          ...          ...   \n",
       "2024           69          146          127          178           92   \n",
       "2025          146          127          178           92           13   \n",
       "2026          127          178           92           13           66   \n",
       "2027          178           92           13           66          177   \n",
       "2028           92           13           66          177          125   \n",
       "\n",
       "      rides_t-163  rides_t-162  rides_t-161  rides_t-160  rides_t-159  ...  \\\n",
       "0              65           30            4           40           73  ...   \n",
       "1              30            4           40           73           68  ...   \n",
       "2               4           40           73           68           87  ...   \n",
       "3              40           73           68           87           43  ...   \n",
       "4              73           68           87           43            9  ...   \n",
       "...           ...          ...          ...          ...          ...  ...   \n",
       "2024           13           66          177          125          158  ...   \n",
       "2025           66          177          125          158           70  ...   \n",
       "2026          177          125          158           70            8  ...   \n",
       "2027          125          158           70            8           55  ...   \n",
       "2028          158           70            8           55          189  ...   \n",
       "\n",
       "      rides_t-8  rides_t-7  rides_t-6  rides_t-5  rides_t-4  rides_t-3  \\\n",
       "0           150        106         60         25          3         28   \n",
       "1           106         60         25          3         28         37   \n",
       "2            60         25          3         28         37         49   \n",
       "3            25          3         28         37         49         40   \n",
       "4             3         28         37         49         40         10   \n",
       "...         ...        ...        ...        ...        ...        ...   \n",
       "2024         55         13         21         96        157        120   \n",
       "2025         13         21         96        157        120         82   \n",
       "2026         21         96        157        120         82         35   \n",
       "2027         96        157        120         82         35         22   \n",
       "2028        157        120         82         35         22         78   \n",
       "\n",
       "      rides_t-2  rides_t-1         pickup_hour  pickup_location_id  \n",
       "0            37         49 2024-01-28 20:00:00                5626  \n",
       "1            49         40 2024-01-29 00:00:00                5626  \n",
       "2            40         10 2024-01-29 04:00:00                5626  \n",
       "3            10         25 2024-01-29 08:00:00                5626  \n",
       "4            25         89 2024-01-29 12:00:00                5626  \n",
       "...         ...        ...                 ...                 ...  \n",
       "2024         82         35 2024-12-31 04:00:00                5626  \n",
       "2025         35         22 2024-12-31 08:00:00                5626  \n",
       "2026         22         78 2024-12-31 12:00:00                5626  \n",
       "2027         78        145 2024-12-31 16:00:00                5626  \n",
       "2028        145        143 2024-12-31 20:00:00                5626  \n",
       "\n",
       "[2029 rows x 170 columns]"
      ]
     },
     "execution_count": 22,
     "metadata": {},
     "output_type": "execute_result"
    }
   ],
   "source": [
    "features.head()\n",
    "features[features['pickup_location_id']==5626]"
   ]
  },
  {
   "cell_type": "code",
   "execution_count": 23,
   "id": "51b5317f-cd00-4f15-98cb-ce57e3df717f",
   "metadata": {},
   "outputs": [
    {
     "data": {
      "application/vnd.plotly.v1+json": {
       "config": {
        "plotlyServerURL": "https://plot.ly"
       },
       "data": [
        {
         "hovertemplate": "Time=%{x}<br>Ride Counts=%{y}<extra></extra>",
         "legendgroup": "",
         "line": {
          "color": "#636efa",
          "dash": "solid"
         },
         "marker": {
          "symbol": "circle"
         },
         "mode": "lines+markers",
         "name": "",
         "orientation": "v",
         "showlegend": false,
         "type": "scatter",
         "x": [
          "2024-01-01T00:00:00.000000000",
          "2024-01-01T04:00:00.000000000",
          "2024-01-01T08:00:00.000000000",
          "2024-01-01T12:00:00.000000000",
          "2024-01-01T16:00:00.000000000",
          "2024-01-01T20:00:00.000000000",
          "2024-01-02T00:00:00.000000000",
          "2024-01-02T04:00:00.000000000",
          "2024-01-02T08:00:00.000000000",
          "2024-01-02T12:00:00.000000000",
          "2024-01-02T16:00:00.000000000",
          "2024-01-02T20:00:00.000000000",
          "2024-01-03T00:00:00.000000000",
          "2024-01-03T04:00:00.000000000",
          "2024-01-03T08:00:00.000000000",
          "2024-01-03T12:00:00.000000000",
          "2024-01-03T16:00:00.000000000",
          "2024-01-03T20:00:00.000000000",
          "2024-01-04T00:00:00.000000000",
          "2024-01-04T04:00:00.000000000",
          "2024-01-04T08:00:00.000000000",
          "2024-01-04T12:00:00.000000000",
          "2024-01-04T16:00:00.000000000",
          "2024-01-04T20:00:00.000000000",
          "2024-01-05T00:00:00.000000000",
          "2024-01-05T04:00:00.000000000",
          "2024-01-05T08:00:00.000000000",
          "2024-01-05T12:00:00.000000000",
          "2024-01-05T16:00:00.000000000",
          "2024-01-05T20:00:00.000000000",
          "2024-01-06T00:00:00.000000000",
          "2024-01-06T04:00:00.000000000",
          "2024-01-06T08:00:00.000000000",
          "2024-01-06T12:00:00.000000000",
          "2024-01-06T16:00:00.000000000",
          "2024-01-06T20:00:00.000000000",
          "2024-01-07T00:00:00.000000000",
          "2024-01-07T04:00:00.000000000",
          "2024-01-07T08:00:00.000000000",
          "2024-01-07T12:00:00.000000000",
          "2024-01-07T16:00:00.000000000",
          "2024-01-07T20:00:00.000000000",
          "2024-01-08T00:00:00.000000000",
          "2024-01-08T04:00:00.000000000",
          "2024-01-08T08:00:00.000000000",
          "2024-01-08T12:00:00.000000000",
          "2024-01-08T16:00:00.000000000",
          "2024-01-08T20:00:00.000000000",
          "2024-01-09T00:00:00.000000000",
          "2024-01-09T04:00:00.000000000",
          "2024-01-09T08:00:00.000000000",
          "2024-01-09T12:00:00.000000000",
          "2024-01-09T16:00:00.000000000",
          "2024-01-09T20:00:00.000000000",
          "2024-01-10T00:00:00.000000000",
          "2024-01-10T04:00:00.000000000",
          "2024-01-10T08:00:00.000000000",
          "2024-01-10T12:00:00.000000000",
          "2024-01-10T16:00:00.000000000",
          "2024-01-10T20:00:00.000000000",
          "2024-01-11T00:00:00.000000000",
          "2024-01-11T04:00:00.000000000",
          "2024-01-11T08:00:00.000000000",
          "2024-01-11T12:00:00.000000000",
          "2024-01-11T16:00:00.000000000",
          "2024-01-11T20:00:00.000000000",
          "2024-01-12T00:00:00.000000000",
          "2024-01-12T04:00:00.000000000",
          "2024-01-12T08:00:00.000000000",
          "2024-01-12T12:00:00.000000000",
          "2024-01-12T16:00:00.000000000",
          "2024-01-12T20:00:00.000000000",
          "2024-01-13T00:00:00.000000000",
          "2024-01-13T04:00:00.000000000",
          "2024-01-13T08:00:00.000000000",
          "2024-01-13T12:00:00.000000000",
          "2024-01-13T16:00:00.000000000",
          "2024-01-13T20:00:00.000000000",
          "2024-01-14T00:00:00.000000000",
          "2024-01-14T04:00:00.000000000",
          "2024-01-14T08:00:00.000000000",
          "2024-01-14T12:00:00.000000000",
          "2024-01-14T16:00:00.000000000",
          "2024-01-14T20:00:00.000000000",
          "2024-01-15T00:00:00.000000000",
          "2024-01-15T04:00:00.000000000",
          "2024-01-15T08:00:00.000000000",
          "2024-01-15T12:00:00.000000000",
          "2024-01-15T16:00:00.000000000",
          "2024-01-15T20:00:00.000000000",
          "2024-01-16T00:00:00.000000000",
          "2024-01-16T04:00:00.000000000",
          "2024-01-16T08:00:00.000000000",
          "2024-01-16T12:00:00.000000000",
          "2024-01-16T16:00:00.000000000",
          "2024-01-16T20:00:00.000000000",
          "2024-01-17T00:00:00.000000000",
          "2024-01-17T04:00:00.000000000",
          "2024-01-17T08:00:00.000000000",
          "2024-01-17T12:00:00.000000000",
          "2024-01-17T16:00:00.000000000",
          "2024-01-17T20:00:00.000000000",
          "2024-01-18T00:00:00.000000000",
          "2024-01-18T04:00:00.000000000",
          "2024-01-18T08:00:00.000000000",
          "2024-01-18T12:00:00.000000000",
          "2024-01-18T16:00:00.000000000",
          "2024-01-18T20:00:00.000000000",
          "2024-01-19T00:00:00.000000000",
          "2024-01-19T04:00:00.000000000",
          "2024-01-19T08:00:00.000000000",
          "2024-01-19T12:00:00.000000000",
          "2024-01-19T16:00:00.000000000",
          "2024-01-19T20:00:00.000000000",
          "2024-01-20T00:00:00.000000000",
          "2024-01-20T04:00:00.000000000",
          "2024-01-20T08:00:00.000000000",
          "2024-01-20T12:00:00.000000000",
          "2024-01-20T16:00:00.000000000",
          "2024-01-20T20:00:00.000000000",
          "2024-01-21T00:00:00.000000000",
          "2024-01-21T04:00:00.000000000",
          "2024-01-21T08:00:00.000000000",
          "2024-01-21T12:00:00.000000000",
          "2024-01-21T16:00:00.000000000",
          "2024-01-21T20:00:00.000000000",
          "2024-01-22T00:00:00.000000000",
          "2024-01-22T04:00:00.000000000",
          "2024-01-22T08:00:00.000000000",
          "2024-01-22T12:00:00.000000000",
          "2024-01-22T16:00:00.000000000",
          "2024-01-22T20:00:00.000000000",
          "2024-01-23T00:00:00.000000000",
          "2024-01-23T04:00:00.000000000",
          "2024-01-23T08:00:00.000000000",
          "2024-01-23T12:00:00.000000000",
          "2024-01-23T16:00:00.000000000",
          "2024-01-23T20:00:00.000000000",
          "2024-01-24T00:00:00.000000000",
          "2024-01-24T04:00:00.000000000",
          "2024-01-24T08:00:00.000000000",
          "2024-01-24T12:00:00.000000000",
          "2024-01-24T16:00:00.000000000",
          "2024-01-24T20:00:00.000000000",
          "2024-01-25T00:00:00.000000000",
          "2024-01-25T04:00:00.000000000",
          "2024-01-25T08:00:00.000000000",
          "2024-01-25T12:00:00.000000000",
          "2024-01-25T16:00:00.000000000",
          "2024-01-25T20:00:00.000000000",
          "2024-01-26T00:00:00.000000000",
          "2024-01-26T04:00:00.000000000",
          "2024-01-26T08:00:00.000000000",
          "2024-01-26T12:00:00.000000000",
          "2024-01-26T16:00:00.000000000",
          "2024-01-26T20:00:00.000000000",
          "2024-01-27T00:00:00.000000000",
          "2024-01-27T04:00:00.000000000",
          "2024-01-27T08:00:00.000000000",
          "2024-01-27T12:00:00.000000000",
          "2024-01-27T16:00:00.000000000",
          "2024-01-27T20:00:00.000000000",
          "2024-01-28T00:00:00.000000000",
          "2024-01-28T04:00:00.000000000",
          "2024-01-28T08:00:00.000000000",
          "2024-01-28T12:00:00.000000000",
          "2024-01-28T16:00:00.000000000",
          "2024-01-28T20:00:00.000000000",
          "2024-01-29T00:00:00.000000000"
         ],
         "xaxis": "x",
         "y": {
          "bdata": "KgAJACgATABBAB4ABAAoAEkARABXACsACQAiAEoAVABkADAACAApAFkARABPAB8AEAAfAFAAVQB5ADsAHAAIAD0AYgAiABcADwABACsATwBcACAAAwAuAEYAQgBjADAACQAuAGMAKQAWAAMABgAuAGkATABlAEAADAA/AGoAVABkAFQAEgAtAEgATAB4AEIAAwAHAFkAiQBvAC8AFQALAE8AagBgADQACAAUADMASQBKAB8AAwAYACEAJgAiABwABQAYADcAPgA1ACAABgAlAFsAOgBFADIACwAkAEUAJgBAADMAEgAIADQAYwBLACEAEAALADIAVwBDACAAAwApAEoASQBfAC0ACQA3AGUAQgBTADMABQAoAHYAOgBAAC4ABgAgAEgARQBTADYABQAZACgAPABQADoAIgAHAEAAlgBqADwAGQADABwAJQAxACgACgA=",
          "dtype": "i2"
         },
         "yaxis": "y"
        },
        {
         "line": {
          "color": "green"
         },
         "marker": {
          "size": 10
         },
         "mode": "markers",
         "name": "Actual Value",
         "type": "scatter",
         "x": [
          "2024-01-29T00:00:00.000000000"
         ],
         "y": [
          10
         ]
        }
       ],
       "layout": {
        "legend": {
         "tracegroupgap": 0
        },
        "template": {
         "data": {
          "bar": [
           {
            "error_x": {
             "color": "#2a3f5f"
            },
            "error_y": {
             "color": "#2a3f5f"
            },
            "marker": {
             "line": {
              "color": "white",
              "width": 0.5
             },
             "pattern": {
              "fillmode": "overlay",
              "size": 10,
              "solidity": 0.2
             }
            },
            "type": "bar"
           }
          ],
          "barpolar": [
           {
            "marker": {
             "line": {
              "color": "white",
              "width": 0.5
             },
             "pattern": {
              "fillmode": "overlay",
              "size": 10,
              "solidity": 0.2
             }
            },
            "type": "barpolar"
           }
          ],
          "carpet": [
           {
            "aaxis": {
             "endlinecolor": "#2a3f5f",
             "gridcolor": "#C8D4E3",
             "linecolor": "#C8D4E3",
             "minorgridcolor": "#C8D4E3",
             "startlinecolor": "#2a3f5f"
            },
            "baxis": {
             "endlinecolor": "#2a3f5f",
             "gridcolor": "#C8D4E3",
             "linecolor": "#C8D4E3",
             "minorgridcolor": "#C8D4E3",
             "startlinecolor": "#2a3f5f"
            },
            "type": "carpet"
           }
          ],
          "choropleth": [
           {
            "colorbar": {
             "outlinewidth": 0,
             "ticks": ""
            },
            "type": "choropleth"
           }
          ],
          "contour": [
           {
            "colorbar": {
             "outlinewidth": 0,
             "ticks": ""
            },
            "colorscale": [
             [
              0,
              "#0d0887"
             ],
             [
              0.1111111111111111,
              "#46039f"
             ],
             [
              0.2222222222222222,
              "#7201a8"
             ],
             [
              0.3333333333333333,
              "#9c179e"
             ],
             [
              0.4444444444444444,
              "#bd3786"
             ],
             [
              0.5555555555555556,
              "#d8576b"
             ],
             [
              0.6666666666666666,
              "#ed7953"
             ],
             [
              0.7777777777777778,
              "#fb9f3a"
             ],
             [
              0.8888888888888888,
              "#fdca26"
             ],
             [
              1,
              "#f0f921"
             ]
            ],
            "type": "contour"
           }
          ],
          "contourcarpet": [
           {
            "colorbar": {
             "outlinewidth": 0,
             "ticks": ""
            },
            "type": "contourcarpet"
           }
          ],
          "heatmap": [
           {
            "colorbar": {
             "outlinewidth": 0,
             "ticks": ""
            },
            "colorscale": [
             [
              0,
              "#0d0887"
             ],
             [
              0.1111111111111111,
              "#46039f"
             ],
             [
              0.2222222222222222,
              "#7201a8"
             ],
             [
              0.3333333333333333,
              "#9c179e"
             ],
             [
              0.4444444444444444,
              "#bd3786"
             ],
             [
              0.5555555555555556,
              "#d8576b"
             ],
             [
              0.6666666666666666,
              "#ed7953"
             ],
             [
              0.7777777777777778,
              "#fb9f3a"
             ],
             [
              0.8888888888888888,
              "#fdca26"
             ],
             [
              1,
              "#f0f921"
             ]
            ],
            "type": "heatmap"
           }
          ],
          "histogram": [
           {
            "marker": {
             "pattern": {
              "fillmode": "overlay",
              "size": 10,
              "solidity": 0.2
             }
            },
            "type": "histogram"
           }
          ],
          "histogram2d": [
           {
            "colorbar": {
             "outlinewidth": 0,
             "ticks": ""
            },
            "colorscale": [
             [
              0,
              "#0d0887"
             ],
             [
              0.1111111111111111,
              "#46039f"
             ],
             [
              0.2222222222222222,
              "#7201a8"
             ],
             [
              0.3333333333333333,
              "#9c179e"
             ],
             [
              0.4444444444444444,
              "#bd3786"
             ],
             [
              0.5555555555555556,
              "#d8576b"
             ],
             [
              0.6666666666666666,
              "#ed7953"
             ],
             [
              0.7777777777777778,
              "#fb9f3a"
             ],
             [
              0.8888888888888888,
              "#fdca26"
             ],
             [
              1,
              "#f0f921"
             ]
            ],
            "type": "histogram2d"
           }
          ],
          "histogram2dcontour": [
           {
            "colorbar": {
             "outlinewidth": 0,
             "ticks": ""
            },
            "colorscale": [
             [
              0,
              "#0d0887"
             ],
             [
              0.1111111111111111,
              "#46039f"
             ],
             [
              0.2222222222222222,
              "#7201a8"
             ],
             [
              0.3333333333333333,
              "#9c179e"
             ],
             [
              0.4444444444444444,
              "#bd3786"
             ],
             [
              0.5555555555555556,
              "#d8576b"
             ],
             [
              0.6666666666666666,
              "#ed7953"
             ],
             [
              0.7777777777777778,
              "#fb9f3a"
             ],
             [
              0.8888888888888888,
              "#fdca26"
             ],
             [
              1,
              "#f0f921"
             ]
            ],
            "type": "histogram2dcontour"
           }
          ],
          "mesh3d": [
           {
            "colorbar": {
             "outlinewidth": 0,
             "ticks": ""
            },
            "type": "mesh3d"
           }
          ],
          "parcoords": [
           {
            "line": {
             "colorbar": {
              "outlinewidth": 0,
              "ticks": ""
             }
            },
            "type": "parcoords"
           }
          ],
          "pie": [
           {
            "automargin": true,
            "type": "pie"
           }
          ],
          "scatter": [
           {
            "fillpattern": {
             "fillmode": "overlay",
             "size": 10,
             "solidity": 0.2
            },
            "type": "scatter"
           }
          ],
          "scatter3d": [
           {
            "line": {
             "colorbar": {
              "outlinewidth": 0,
              "ticks": ""
             }
            },
            "marker": {
             "colorbar": {
              "outlinewidth": 0,
              "ticks": ""
             }
            },
            "type": "scatter3d"
           }
          ],
          "scattercarpet": [
           {
            "marker": {
             "colorbar": {
              "outlinewidth": 0,
              "ticks": ""
             }
            },
            "type": "scattercarpet"
           }
          ],
          "scattergeo": [
           {
            "marker": {
             "colorbar": {
              "outlinewidth": 0,
              "ticks": ""
             }
            },
            "type": "scattergeo"
           }
          ],
          "scattergl": [
           {
            "marker": {
             "colorbar": {
              "outlinewidth": 0,
              "ticks": ""
             }
            },
            "type": "scattergl"
           }
          ],
          "scattermap": [
           {
            "marker": {
             "colorbar": {
              "outlinewidth": 0,
              "ticks": ""
             }
            },
            "type": "scattermap"
           }
          ],
          "scattermapbox": [
           {
            "marker": {
             "colorbar": {
              "outlinewidth": 0,
              "ticks": ""
             }
            },
            "type": "scattermapbox"
           }
          ],
          "scatterpolar": [
           {
            "marker": {
             "colorbar": {
              "outlinewidth": 0,
              "ticks": ""
             }
            },
            "type": "scatterpolar"
           }
          ],
          "scatterpolargl": [
           {
            "marker": {
             "colorbar": {
              "outlinewidth": 0,
              "ticks": ""
             }
            },
            "type": "scatterpolargl"
           }
          ],
          "scatterternary": [
           {
            "marker": {
             "colorbar": {
              "outlinewidth": 0,
              "ticks": ""
             }
            },
            "type": "scatterternary"
           }
          ],
          "surface": [
           {
            "colorbar": {
             "outlinewidth": 0,
             "ticks": ""
            },
            "colorscale": [
             [
              0,
              "#0d0887"
             ],
             [
              0.1111111111111111,
              "#46039f"
             ],
             [
              0.2222222222222222,
              "#7201a8"
             ],
             [
              0.3333333333333333,
              "#9c179e"
             ],
             [
              0.4444444444444444,
              "#bd3786"
             ],
             [
              0.5555555555555556,
              "#d8576b"
             ],
             [
              0.6666666666666666,
              "#ed7953"
             ],
             [
              0.7777777777777778,
              "#fb9f3a"
             ],
             [
              0.8888888888888888,
              "#fdca26"
             ],
             [
              1,
              "#f0f921"
             ]
            ],
            "type": "surface"
           }
          ],
          "table": [
           {
            "cells": {
             "fill": {
              "color": "#EBF0F8"
             },
             "line": {
              "color": "white"
             }
            },
            "header": {
             "fill": {
              "color": "#C8D4E3"
             },
             "line": {
              "color": "white"
             }
            },
            "type": "table"
           }
          ]
         },
         "layout": {
          "annotationdefaults": {
           "arrowcolor": "#2a3f5f",
           "arrowhead": 0,
           "arrowwidth": 1
          },
          "autotypenumbers": "strict",
          "coloraxis": {
           "colorbar": {
            "outlinewidth": 0,
            "ticks": ""
           }
          },
          "colorscale": {
           "diverging": [
            [
             0,
             "#8e0152"
            ],
            [
             0.1,
             "#c51b7d"
            ],
            [
             0.2,
             "#de77ae"
            ],
            [
             0.3,
             "#f1b6da"
            ],
            [
             0.4,
             "#fde0ef"
            ],
            [
             0.5,
             "#f7f7f7"
            ],
            [
             0.6,
             "#e6f5d0"
            ],
            [
             0.7,
             "#b8e186"
            ],
            [
             0.8,
             "#7fbc41"
            ],
            [
             0.9,
             "#4d9221"
            ],
            [
             1,
             "#276419"
            ]
           ],
           "sequential": [
            [
             0,
             "#0d0887"
            ],
            [
             0.1111111111111111,
             "#46039f"
            ],
            [
             0.2222222222222222,
             "#7201a8"
            ],
            [
             0.3333333333333333,
             "#9c179e"
            ],
            [
             0.4444444444444444,
             "#bd3786"
            ],
            [
             0.5555555555555556,
             "#d8576b"
            ],
            [
             0.6666666666666666,
             "#ed7953"
            ],
            [
             0.7777777777777778,
             "#fb9f3a"
            ],
            [
             0.8888888888888888,
             "#fdca26"
            ],
            [
             1,
             "#f0f921"
            ]
           ],
           "sequentialminus": [
            [
             0,
             "#0d0887"
            ],
            [
             0.1111111111111111,
             "#46039f"
            ],
            [
             0.2222222222222222,
             "#7201a8"
            ],
            [
             0.3333333333333333,
             "#9c179e"
            ],
            [
             0.4444444444444444,
             "#bd3786"
            ],
            [
             0.5555555555555556,
             "#d8576b"
            ],
            [
             0.6666666666666666,
             "#ed7953"
            ],
            [
             0.7777777777777778,
             "#fb9f3a"
            ],
            [
             0.8888888888888888,
             "#fdca26"
            ],
            [
             1,
             "#f0f921"
            ]
           ]
          },
          "colorway": [
           "#636efa",
           "#EF553B",
           "#00cc96",
           "#ab63fa",
           "#FFA15A",
           "#19d3f3",
           "#FF6692",
           "#B6E880",
           "#FF97FF",
           "#FECB52"
          ],
          "font": {
           "color": "#2a3f5f"
          },
          "geo": {
           "bgcolor": "white",
           "lakecolor": "white",
           "landcolor": "white",
           "showlakes": true,
           "showland": true,
           "subunitcolor": "#C8D4E3"
          },
          "hoverlabel": {
           "align": "left"
          },
          "hovermode": "closest",
          "mapbox": {
           "style": "light"
          },
          "paper_bgcolor": "white",
          "plot_bgcolor": "white",
          "polar": {
           "angularaxis": {
            "gridcolor": "#EBF0F8",
            "linecolor": "#EBF0F8",
            "ticks": ""
           },
           "bgcolor": "white",
           "radialaxis": {
            "gridcolor": "#EBF0F8",
            "linecolor": "#EBF0F8",
            "ticks": ""
           }
          },
          "scene": {
           "xaxis": {
            "backgroundcolor": "white",
            "gridcolor": "#DFE8F3",
            "gridwidth": 2,
            "linecolor": "#EBF0F8",
            "showbackground": true,
            "ticks": "",
            "zerolinecolor": "#EBF0F8"
           },
           "yaxis": {
            "backgroundcolor": "white",
            "gridcolor": "#DFE8F3",
            "gridwidth": 2,
            "linecolor": "#EBF0F8",
            "showbackground": true,
            "ticks": "",
            "zerolinecolor": "#EBF0F8"
           },
           "zaxis": {
            "backgroundcolor": "white",
            "gridcolor": "#DFE8F3",
            "gridwidth": 2,
            "linecolor": "#EBF0F8",
            "showbackground": true,
            "ticks": "",
            "zerolinecolor": "#EBF0F8"
           }
          },
          "shapedefaults": {
           "line": {
            "color": "#2a3f5f"
           }
          },
          "ternary": {
           "aaxis": {
            "gridcolor": "#DFE8F3",
            "linecolor": "#A2B1C6",
            "ticks": ""
           },
           "baxis": {
            "gridcolor": "#DFE8F3",
            "linecolor": "#A2B1C6",
            "ticks": ""
           },
           "bgcolor": "white",
           "caxis": {
            "gridcolor": "#DFE8F3",
            "linecolor": "#A2B1C6",
            "ticks": ""
           }
          },
          "title": {
           "x": 0.05
          },
          "xaxis": {
           "automargin": true,
           "gridcolor": "#EBF0F8",
           "linecolor": "#EBF0F8",
           "ticks": "",
           "title": {
            "standoff": 15
           },
           "zerolinecolor": "#EBF0F8",
           "zerolinewidth": 2
          },
          "yaxis": {
           "automargin": true,
           "gridcolor": "#EBF0F8",
           "linecolor": "#EBF0F8",
           "ticks": "",
           "title": {
            "standoff": 15
           },
           "zerolinecolor": "#EBF0F8",
           "zerolinewidth": 2
          }
         }
        },
        "title": {
         "text": "Pickup Hour: 2024-01-29 00:00:00, Location ID: 5626"
        },
        "xaxis": {
         "anchor": "y",
         "domain": [
          0,
          1
         ],
         "title": {
          "text": "Time"
         }
        },
        "yaxis": {
         "anchor": "x",
         "domain": [
          0,
          1
         ],
         "title": {
          "text": "Ride Counts"
         }
        }
       }
      }
     },
     "metadata": {},
     "output_type": "display_data"
    }
   ],
   "source": [
    "from src.plot_utils import plot_aggregated_time_series\n",
    "\n",
    "plot_aggregated_time_series(features, targets, row_id=1)"
   ]
  },
  {
   "cell_type": "code",
   "execution_count": null,
   "id": "0624b527",
   "metadata": {},
   "outputs": [],
   "source": []
  }
 ],
 "metadata": {
  "kernelspec": {
   "display_name": "my_proj_cda500_env",
   "language": "python",
   "name": "python3"
  },
  "language_info": {
   "codemirror_mode": {
    "name": "ipython",
    "version": 3
   },
   "file_extension": ".py",
   "mimetype": "text/x-python",
   "name": "python",
   "nbconvert_exporter": "python",
   "pygments_lexer": "ipython3",
   "version": "3.10.16"
  }
 },
 "nbformat": 4,
 "nbformat_minor": 5
}
