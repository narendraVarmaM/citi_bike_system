{
 "cells": [
  {
   "cell_type": "code",
   "execution_count": 1,
   "id": "916c64e8",
   "metadata": {},
   "outputs": [],
   "source": [
    "from IPython.core.interactiveshell import InteractiveShell\n",
    "InteractiveShell.ast_node_interactivity = \"all\""
   ]
  },
  {
   "cell_type": "code",
   "execution_count": 2,
   "id": "dd244cde",
   "metadata": {},
   "outputs": [],
   "source": [
    "%load_ext autoreload\n",
    "%autoreload 2"
   ]
  },
  {
   "cell_type": "code",
   "execution_count": 3,
   "id": "d40510ca",
   "metadata": {},
   "outputs": [],
   "source": [
    "import numpy as np"
   ]
  },
  {
   "cell_type": "code",
   "execution_count": 4,
   "id": "860f0ed9",
   "metadata": {},
   "outputs": [],
   "source": [
    "import sys\n",
    "import os\n",
    "\n",
    "# Add the parent directory to the Python path\n",
    "sys.path.append(os.path.abspath(os.path.join(os.getcwd(), \"..\")))\n",
    "\n",
    "# Now you can import from src\n",
    "from src.data_utils import load_and_process_taxi_data"
   ]
  },
  {
   "cell_type": "code",
   "execution_count": 5,
   "id": "d6f0ad8e",
   "metadata": {},
   "outputs": [
    {
     "name": "stdout",
     "output_type": "stream",
     "text": [
      "Downloading data for 2024-01...\n",
      "Downloaded https://s3.amazonaws.com/tripdata/202401-citibike-tripdata.csv.zip\n",
      "Extracted to ../data/raw\n",
      "Reading 202401-citibike-tripdata.csv\n"
     ]
    },
    {
     "name": "stderr",
     "output_type": "stream",
     "text": [
      "/Users/narendravarma/Documents/citi_bike_system/src/data_utils.py:83: DtypeWarning: Columns (5,7) have mixed types. Specify dtype option on import or set low_memory=False.\n",
      "  dfs.append(pd.read_csv(csv))\n"
     ]
    },
    {
     "name": "stdout",
     "output_type": "stream",
     "text": [
      "Converted to parquet: ../data/raw/rides_2024_01.parquet\n",
      "Cleaned up ZIP and CSV files\n",
      "Successfully downloaded data for 2024-01.\n",
      "Loading data for 2024-01...\n",
      "Total records: 1,881,640\n",
      "Valid records: 57,196\n",
      "Records dropped: 1,824,444 (96.96%)\n",
      "Successfully processed data for 2024-01.\n",
      "Downloading data for 2024-02...\n",
      "Downloaded https://s3.amazonaws.com/tripdata/202402-citibike-tripdata.csv.zip\n",
      "Extracted to ../data/raw\n",
      "Reading 202402-citibike-tripdata.csv\n"
     ]
    },
    {
     "name": "stderr",
     "output_type": "stream",
     "text": [
      "/Users/narendravarma/Documents/citi_bike_system/src/data_utils.py:83: DtypeWarning: Columns (5,7) have mixed types. Specify dtype option on import or set low_memory=False.\n",
      "  dfs.append(pd.read_csv(csv))\n"
     ]
    },
    {
     "name": "stdout",
     "output_type": "stream",
     "text": [
      "Converted to parquet: ../data/raw/rides_2024_02.parquet\n",
      "Cleaned up ZIP and CSV files\n",
      "Successfully downloaded data for 2024-02.\n",
      "Loading data for 2024-02...\n",
      "Total records: 2,115,518\n",
      "Valid records: 68,438\n",
      "Records dropped: 2,047,080 (96.76%)\n",
      "Successfully processed data for 2024-02.\n",
      "Downloading data for 2024-03...\n",
      "Downloaded https://s3.amazonaws.com/tripdata/202403-citibike-tripdata.csv.zip\n",
      "Extracted to ../data/raw\n",
      "Reading 202403-citibike-tripdata.csv\n"
     ]
    },
    {
     "name": "stderr",
     "output_type": "stream",
     "text": [
      "/Users/narendravarma/Documents/citi_bike_system/src/data_utils.py:83: DtypeWarning: Columns (5,7) have mixed types. Specify dtype option on import or set low_memory=False.\n",
      "  dfs.append(pd.read_csv(csv))\n"
     ]
    },
    {
     "name": "stdout",
     "output_type": "stream",
     "text": [
      "Converted to parquet: ../data/raw/rides_2024_03.parquet\n",
      "Cleaned up ZIP and CSV files\n",
      "Successfully downloaded data for 2024-03.\n",
      "Loading data for 2024-03...\n",
      "Total records: 2,655,667\n",
      "Valid records: 80,317\n",
      "Records dropped: 2,575,350 (96.98%)\n",
      "Successfully processed data for 2024-03.\n",
      "Downloading data for 2024-04...\n",
      "Downloaded https://s3.amazonaws.com/tripdata/202404-citibike-tripdata.csv.zip\n",
      "Extracted to ../data/raw\n",
      "Reading 202404-citibike-tripdata.csv\n"
     ]
    },
    {
     "name": "stderr",
     "output_type": "stream",
     "text": [
      "/Users/narendravarma/Documents/citi_bike_system/src/data_utils.py:83: DtypeWarning: Columns (5,7) have mixed types. Specify dtype option on import or set low_memory=False.\n",
      "  dfs.append(pd.read_csv(csv))\n"
     ]
    },
    {
     "name": "stdout",
     "output_type": "stream",
     "text": [
      "Converted to parquet: ../data/raw/rides_2024_04.parquet\n",
      "Cleaned up ZIP and CSV files\n",
      "Successfully downloaded data for 2024-04.\n",
      "Loading data for 2024-04...\n",
      "Total records: 3,208,493\n",
      "Valid records: 98,794\n",
      "Records dropped: 3,109,699 (96.92%)\n",
      "Successfully processed data for 2024-04.\n",
      "Downloading data for 2024-05...\n",
      "https://s3.amazonaws.com/tripdata/202405-citibike-tripdata.csv.zip returned 404\n",
      "Downloaded https://s3.amazonaws.com/tripdata/202405-citibike-tripdata.zip\n",
      "Extracted to ../data/raw\n",
      "Reading 202405-citibike-tripdata_3.csv\n"
     ]
    },
    {
     "name": "stderr",
     "output_type": "stream",
     "text": [
      "/Users/narendravarma/Documents/citi_bike_system/src/data_utils.py:83: DtypeWarning: Columns (5,7) have mixed types. Specify dtype option on import or set low_memory=False.\n",
      "  dfs.append(pd.read_csv(csv))\n"
     ]
    },
    {
     "name": "stdout",
     "output_type": "stream",
     "text": [
      "Reading 202405-citibike-tripdata_2.csv\n"
     ]
    },
    {
     "name": "stderr",
     "output_type": "stream",
     "text": [
      "/Users/narendravarma/Documents/citi_bike_system/src/data_utils.py:83: DtypeWarning: Columns (5,7) have mixed types. Specify dtype option on import or set low_memory=False.\n",
      "  dfs.append(pd.read_csv(csv))\n"
     ]
    },
    {
     "name": "stdout",
     "output_type": "stream",
     "text": [
      "Reading 202405-citibike-tripdata_1.csv\n"
     ]
    },
    {
     "name": "stderr",
     "output_type": "stream",
     "text": [
      "/Users/narendravarma/Documents/citi_bike_system/src/data_utils.py:83: DtypeWarning: Columns (7) have mixed types. Specify dtype option on import or set low_memory=False.\n",
      "  dfs.append(pd.read_csv(csv))\n"
     ]
    },
    {
     "name": "stdout",
     "output_type": "stream",
     "text": [
      "Reading 202405-citibike-tripdata_5.csv\n"
     ]
    },
    {
     "name": "stderr",
     "output_type": "stream",
     "text": [
      "/Users/narendravarma/Documents/citi_bike_system/src/data_utils.py:83: DtypeWarning: Columns (5,7) have mixed types. Specify dtype option on import or set low_memory=False.\n",
      "  dfs.append(pd.read_csv(csv))\n"
     ]
    },
    {
     "name": "stdout",
     "output_type": "stream",
     "text": [
      "Reading 202405-citibike-tripdata_4.csv\n"
     ]
    },
    {
     "name": "stderr",
     "output_type": "stream",
     "text": [
      "/Users/narendravarma/Documents/citi_bike_system/src/data_utils.py:83: DtypeWarning: Columns (5,7) have mixed types. Specify dtype option on import or set low_memory=False.\n",
      "  dfs.append(pd.read_csv(csv))\n"
     ]
    },
    {
     "name": "stdout",
     "output_type": "stream",
     "text": [
      "Converted to parquet: ../data/raw/rides_2024_05.parquet\n",
      "Cleaned up ZIP and CSV files\n",
      "Successfully downloaded data for 2024-05.\n",
      "Loading data for 2024-05...\n",
      "Total records: 4,219,327\n",
      "Valid records: 124,424\n",
      "Records dropped: 4,094,903 (97.05%)\n",
      "Successfully processed data for 2024-05.\n",
      "Downloading data for 2024-06...\n",
      "https://s3.amazonaws.com/tripdata/202406-citibike-tripdata.csv.zip returned 404\n",
      "Downloaded https://s3.amazonaws.com/tripdata/202406-citibike-tripdata.zip\n",
      "Extracted to ../data/raw\n",
      "Reading 202406-citibike-tripdata_5.csv\n"
     ]
    },
    {
     "name": "stderr",
     "output_type": "stream",
     "text": [
      "/Users/narendravarma/Documents/citi_bike_system/src/data_utils.py:83: DtypeWarning: Columns (5,7) have mixed types. Specify dtype option on import or set low_memory=False.\n",
      "  dfs.append(pd.read_csv(csv))\n"
     ]
    },
    {
     "name": "stdout",
     "output_type": "stream",
     "text": [
      "Reading 202406-citibike-tripdata_4.csv\n"
     ]
    },
    {
     "name": "stderr",
     "output_type": "stream",
     "text": [
      "/Users/narendravarma/Documents/citi_bike_system/src/data_utils.py:83: DtypeWarning: Columns (7) have mixed types. Specify dtype option on import or set low_memory=False.\n",
      "  dfs.append(pd.read_csv(csv))\n"
     ]
    },
    {
     "name": "stdout",
     "output_type": "stream",
     "text": [
      "Reading 202406-citibike-tripdata_1.csv\n"
     ]
    },
    {
     "name": "stderr",
     "output_type": "stream",
     "text": [
      "/Users/narendravarma/Documents/citi_bike_system/src/data_utils.py:83: DtypeWarning: Columns (7) have mixed types. Specify dtype option on import or set low_memory=False.\n",
      "  dfs.append(pd.read_csv(csv))\n"
     ]
    },
    {
     "name": "stdout",
     "output_type": "stream",
     "text": [
      "Reading 202406-citibike-tripdata_3.csv\n"
     ]
    },
    {
     "name": "stderr",
     "output_type": "stream",
     "text": [
      "/Users/narendravarma/Documents/citi_bike_system/src/data_utils.py:83: DtypeWarning: Columns (5,7) have mixed types. Specify dtype option on import or set low_memory=False.\n",
      "  dfs.append(pd.read_csv(csv))\n"
     ]
    },
    {
     "name": "stdout",
     "output_type": "stream",
     "text": [
      "Reading 202406-citibike-tripdata_2.csv\n"
     ]
    },
    {
     "name": "stderr",
     "output_type": "stream",
     "text": [
      "/Users/narendravarma/Documents/citi_bike_system/src/data_utils.py:83: DtypeWarning: Columns (5,7) have mixed types. Specify dtype option on import or set low_memory=False.\n",
      "  dfs.append(pd.read_csv(csv))\n"
     ]
    },
    {
     "name": "stdout",
     "output_type": "stream",
     "text": [
      "Converted to parquet: ../data/raw/rides_2024_06.parquet\n",
      "Cleaned up ZIP and CSV files\n",
      "Successfully downloaded data for 2024-06.\n",
      "Loading data for 2024-06...\n",
      "Total records: 4,767,659\n",
      "Valid records: 139,068\n",
      "Records dropped: 4,628,591 (97.08%)\n",
      "Successfully processed data for 2024-06.\n",
      "Downloading data for 2024-07...\n",
      "https://s3.amazonaws.com/tripdata/202407-citibike-tripdata.csv.zip returned 404\n",
      "Downloaded https://s3.amazonaws.com/tripdata/202407-citibike-tripdata.zip\n",
      "Extracted to ../data/raw\n",
      "Reading 202407-citibike-tripdata_2.csv\n"
     ]
    },
    {
     "name": "stderr",
     "output_type": "stream",
     "text": [
      "/Users/narendravarma/Documents/citi_bike_system/src/data_utils.py:83: DtypeWarning: Columns (8) have mixed types. Specify dtype option on import or set low_memory=False.\n",
      "  dfs.append(pd.read_csv(csv))\n"
     ]
    },
    {
     "name": "stdout",
     "output_type": "stream",
     "text": [
      "Reading 202407-citibike-tripdata_3.csv\n"
     ]
    },
    {
     "name": "stderr",
     "output_type": "stream",
     "text": [
      "/Users/narendravarma/Documents/citi_bike_system/src/data_utils.py:83: DtypeWarning: Columns (8) have mixed types. Specify dtype option on import or set low_memory=False.\n",
      "  dfs.append(pd.read_csv(csv))\n"
     ]
    },
    {
     "name": "stdout",
     "output_type": "stream",
     "text": [
      "Reading 202407-citibike-tripdata_1.csv\n"
     ]
    },
    {
     "name": "stderr",
     "output_type": "stream",
     "text": [
      "/Users/narendravarma/Documents/citi_bike_system/src/data_utils.py:83: DtypeWarning: Columns (8) have mixed types. Specify dtype option on import or set low_memory=False.\n",
      "  dfs.append(pd.read_csv(csv))\n"
     ]
    },
    {
     "name": "stdout",
     "output_type": "stream",
     "text": [
      "Reading 202407-citibike-tripdata_4.csv\n"
     ]
    },
    {
     "name": "stderr",
     "output_type": "stream",
     "text": [
      "/Users/narendravarma/Documents/citi_bike_system/src/data_utils.py:83: DtypeWarning: Columns (8) have mixed types. Specify dtype option on import or set low_memory=False.\n",
      "  dfs.append(pd.read_csv(csv))\n"
     ]
    },
    {
     "name": "stdout",
     "output_type": "stream",
     "text": [
      "Reading 202407-citibike-tripdata_5.csv\n"
     ]
    },
    {
     "name": "stderr",
     "output_type": "stream",
     "text": [
      "/Users/narendravarma/Documents/citi_bike_system/src/data_utils.py:83: DtypeWarning: Columns (6,8) have mixed types. Specify dtype option on import or set low_memory=False.\n",
      "  dfs.append(pd.read_csv(csv))\n"
     ]
    },
    {
     "name": "stdout",
     "output_type": "stream",
     "text": [
      "Converted to parquet: ../data/raw/rides_2024_07.parquet\n",
      "Cleaned up ZIP and CSV files\n",
      "Successfully downloaded data for 2024-07.\n",
      "Loading data for 2024-07...\n",
      "Total records: 4,706,150\n",
      "Valid records: 139,111\n",
      "Records dropped: 4,567,039 (97.04%)\n",
      "Successfully processed data for 2024-07.\n",
      "Downloading data for 2024-08...\n",
      "https://s3.amazonaws.com/tripdata/202408-citibike-tripdata.csv.zip returned 404\n",
      "Downloaded https://s3.amazonaws.com/tripdata/202408-citibike-tripdata.zip\n",
      "Extracted to ../data/raw\n",
      "Reading 202408-citibike-tripdata_3.csv\n"
     ]
    },
    {
     "name": "stderr",
     "output_type": "stream",
     "text": [
      "/Users/narendravarma/Documents/citi_bike_system/src/data_utils.py:83: DtypeWarning: Columns (6,8) have mixed types. Specify dtype option on import or set low_memory=False.\n",
      "  dfs.append(pd.read_csv(csv))\n"
     ]
    },
    {
     "name": "stdout",
     "output_type": "stream",
     "text": [
      "Reading 202408-citibike-tripdata_2.csv\n"
     ]
    },
    {
     "name": "stderr",
     "output_type": "stream",
     "text": [
      "/Users/narendravarma/Documents/citi_bike_system/src/data_utils.py:83: DtypeWarning: Columns (6,8) have mixed types. Specify dtype option on import or set low_memory=False.\n",
      "  dfs.append(pd.read_csv(csv))\n"
     ]
    },
    {
     "name": "stdout",
     "output_type": "stream",
     "text": [
      "Reading 202408-citibike-tripdata_1.csv\n"
     ]
    },
    {
     "name": "stderr",
     "output_type": "stream",
     "text": [
      "/Users/narendravarma/Documents/citi_bike_system/src/data_utils.py:83: DtypeWarning: Columns (6,8) have mixed types. Specify dtype option on import or set low_memory=False.\n",
      "  dfs.append(pd.read_csv(csv))\n"
     ]
    },
    {
     "name": "stdout",
     "output_type": "stream",
     "text": [
      "Reading 202408-citibike-tripdata_5.csv\n"
     ]
    },
    {
     "name": "stderr",
     "output_type": "stream",
     "text": [
      "/Users/narendravarma/Documents/citi_bike_system/src/data_utils.py:83: DtypeWarning: Columns (6,8) have mixed types. Specify dtype option on import or set low_memory=False.\n",
      "  dfs.append(pd.read_csv(csv))\n"
     ]
    },
    {
     "name": "stdout",
     "output_type": "stream",
     "text": [
      "Reading 202408-citibike-tripdata_4.csv\n"
     ]
    },
    {
     "name": "stderr",
     "output_type": "stream",
     "text": [
      "/Users/narendravarma/Documents/citi_bike_system/src/data_utils.py:83: DtypeWarning: Columns (6,8) have mixed types. Specify dtype option on import or set low_memory=False.\n",
      "  dfs.append(pd.read_csv(csv))\n"
     ]
    },
    {
     "name": "stdout",
     "output_type": "stream",
     "text": [
      "Converted to parquet: ../data/raw/rides_2024_08.parquet\n",
      "Cleaned up ZIP and CSV files\n",
      "Successfully downloaded data for 2024-08.\n",
      "Loading data for 2024-08...\n",
      "Total records: 4,586,537\n",
      "Valid records: 136,344\n",
      "Records dropped: 4,450,193 (97.03%)\n",
      "Successfully processed data for 2024-08.\n",
      "Downloading data for 2024-09...\n",
      "https://s3.amazonaws.com/tripdata/202409-citibike-tripdata.csv.zip returned 404\n",
      "Downloaded https://s3.amazonaws.com/tripdata/202409-citibike-tripdata.zip\n",
      "Extracted to ../data/raw\n",
      "Reading 202409-citibike-tripdata_4.csv\n"
     ]
    },
    {
     "name": "stderr",
     "output_type": "stream",
     "text": [
      "/Users/narendravarma/Documents/citi_bike_system/src/data_utils.py:83: DtypeWarning: Columns (5,7) have mixed types. Specify dtype option on import or set low_memory=False.\n",
      "  dfs.append(pd.read_csv(csv))\n"
     ]
    },
    {
     "name": "stdout",
     "output_type": "stream",
     "text": [
      "Reading 202409-citibike-tripdata_5.csv\n"
     ]
    },
    {
     "name": "stderr",
     "output_type": "stream",
     "text": [
      "/Users/narendravarma/Documents/citi_bike_system/src/data_utils.py:83: DtypeWarning: Columns (7) have mixed types. Specify dtype option on import or set low_memory=False.\n",
      "  dfs.append(pd.read_csv(csv))\n"
     ]
    },
    {
     "name": "stdout",
     "output_type": "stream",
     "text": [
      "Reading 202409-citibike-tripdata_1.csv\n"
     ]
    },
    {
     "name": "stderr",
     "output_type": "stream",
     "text": [
      "/Users/narendravarma/Documents/citi_bike_system/src/data_utils.py:83: DtypeWarning: Columns (5,7) have mixed types. Specify dtype option on import or set low_memory=False.\n",
      "  dfs.append(pd.read_csv(csv))\n"
     ]
    },
    {
     "name": "stdout",
     "output_type": "stream",
     "text": [
      "Reading 202409-citibike-tripdata_2.csv\n"
     ]
    },
    {
     "name": "stderr",
     "output_type": "stream",
     "text": [
      "/Users/narendravarma/Documents/citi_bike_system/src/data_utils.py:83: DtypeWarning: Columns (7) have mixed types. Specify dtype option on import or set low_memory=False.\n",
      "  dfs.append(pd.read_csv(csv))\n"
     ]
    },
    {
     "name": "stdout",
     "output_type": "stream",
     "text": [
      "Reading 202409-citibike-tripdata_3.csv\n"
     ]
    },
    {
     "name": "stderr",
     "output_type": "stream",
     "text": [
      "/Users/narendravarma/Documents/citi_bike_system/src/data_utils.py:83: DtypeWarning: Columns (5,7) have mixed types. Specify dtype option on import or set low_memory=False.\n",
      "  dfs.append(pd.read_csv(csv))\n"
     ]
    },
    {
     "name": "stdout",
     "output_type": "stream",
     "text": [
      "Converted to parquet: ../data/raw/rides_2024_09.parquet\n",
      "Cleaned up ZIP and CSV files\n",
      "Successfully downloaded data for 2024-09.\n",
      "Loading data for 2024-09...\n",
      "Total records: 4,979,857\n",
      "Valid records: 150,776\n",
      "Records dropped: 4,829,081 (96.97%)\n",
      "Successfully processed data for 2024-09.\n",
      "Downloading data for 2024-10...\n",
      "https://s3.amazonaws.com/tripdata/202410-citibike-tripdata.csv.zip returned 404\n",
      "Downloaded https://s3.amazonaws.com/tripdata/202410-citibike-tripdata.zip\n",
      "Extracted to ../data/raw\n",
      "Reading 202410-citibike-tripdata/202410-citibike-tripdata_6.csv\n",
      "Reading 202410-citibike-tripdata/202410-citibike-tripdata_4.csv\n"
     ]
    },
    {
     "name": "stderr",
     "output_type": "stream",
     "text": [
      "/Users/narendravarma/Documents/citi_bike_system/src/data_utils.py:83: DtypeWarning: Columns (5) have mixed types. Specify dtype option on import or set low_memory=False.\n",
      "  dfs.append(pd.read_csv(csv))\n",
      "/Users/narendravarma/Documents/citi_bike_system/src/data_utils.py:83: DtypeWarning: Columns (5,7) have mixed types. Specify dtype option on import or set low_memory=False.\n",
      "  dfs.append(pd.read_csv(csv))\n"
     ]
    },
    {
     "name": "stdout",
     "output_type": "stream",
     "text": [
      "Reading 202410-citibike-tripdata/202410-citibike-tripdata_5.csv\n"
     ]
    },
    {
     "name": "stderr",
     "output_type": "stream",
     "text": [
      "/Users/narendravarma/Documents/citi_bike_system/src/data_utils.py:83: DtypeWarning: Columns (5,7) have mixed types. Specify dtype option on import or set low_memory=False.\n",
      "  dfs.append(pd.read_csv(csv))\n"
     ]
    },
    {
     "name": "stdout",
     "output_type": "stream",
     "text": [
      "Reading 202410-citibike-tripdata/202410-citibike-tripdata_1.csv\n"
     ]
    },
    {
     "name": "stderr",
     "output_type": "stream",
     "text": [
      "/Users/narendravarma/Documents/citi_bike_system/src/data_utils.py:83: DtypeWarning: Columns (5,7) have mixed types. Specify dtype option on import or set low_memory=False.\n",
      "  dfs.append(pd.read_csv(csv))\n"
     ]
    },
    {
     "name": "stdout",
     "output_type": "stream",
     "text": [
      "Reading 202410-citibike-tripdata/202410-citibike-tripdata_2.csv\n"
     ]
    },
    {
     "name": "stderr",
     "output_type": "stream",
     "text": [
      "/Users/narendravarma/Documents/citi_bike_system/src/data_utils.py:83: DtypeWarning: Columns (7) have mixed types. Specify dtype option on import or set low_memory=False.\n",
      "  dfs.append(pd.read_csv(csv))\n"
     ]
    },
    {
     "name": "stdout",
     "output_type": "stream",
     "text": [
      "Reading 202410-citibike-tripdata/202410-citibike-tripdata_3.csv\n"
     ]
    },
    {
     "name": "stderr",
     "output_type": "stream",
     "text": [
      "/Users/narendravarma/Documents/citi_bike_system/src/data_utils.py:83: DtypeWarning: Columns (5,7) have mixed types. Specify dtype option on import or set low_memory=False.\n",
      "  dfs.append(pd.read_csv(csv))\n"
     ]
    },
    {
     "name": "stdout",
     "output_type": "stream",
     "text": [
      "Converted to parquet: ../data/raw/rides_2024_10.parquet\n",
      "Cleaned up ZIP and CSV files\n",
      "Successfully downloaded data for 2024-10.\n",
      "Loading data for 2024-10...\n",
      "Total records: 5,131,292\n",
      "Valid records: 160,539\n",
      "Records dropped: 4,970,753 (96.87%)\n",
      "Successfully processed data for 2024-10.\n",
      "Downloading data for 2024-11...\n",
      "https://s3.amazonaws.com/tripdata/202411-citibike-tripdata.csv.zip returned 404\n",
      "Downloaded https://s3.amazonaws.com/tripdata/202411-citibike-tripdata.zip\n",
      "Extracted to ../data/raw\n",
      "Reading 202411-citibike-tripdata_3.csv\n"
     ]
    },
    {
     "name": "stderr",
     "output_type": "stream",
     "text": [
      "/Users/narendravarma/Documents/citi_bike_system/src/data_utils.py:83: DtypeWarning: Columns (5,7) have mixed types. Specify dtype option on import or set low_memory=False.\n",
      "  dfs.append(pd.read_csv(csv))\n"
     ]
    },
    {
     "name": "stdout",
     "output_type": "stream",
     "text": [
      "Reading 202411-citibike-tripdata_2.csv\n"
     ]
    },
    {
     "name": "stderr",
     "output_type": "stream",
     "text": [
      "/Users/narendravarma/Documents/citi_bike_system/src/data_utils.py:83: DtypeWarning: Columns (7) have mixed types. Specify dtype option on import or set low_memory=False.\n",
      "  dfs.append(pd.read_csv(csv))\n"
     ]
    },
    {
     "name": "stdout",
     "output_type": "stream",
     "text": [
      "Reading 202411-citibike-tripdata_1.csv\n"
     ]
    },
    {
     "name": "stderr",
     "output_type": "stream",
     "text": [
      "/Users/narendravarma/Documents/citi_bike_system/src/data_utils.py:83: DtypeWarning: Columns (7) have mixed types. Specify dtype option on import or set low_memory=False.\n",
      "  dfs.append(pd.read_csv(csv))\n"
     ]
    },
    {
     "name": "stdout",
     "output_type": "stream",
     "text": [
      "Reading 202411-citibike-tripdata_4.csv\n"
     ]
    },
    {
     "name": "stderr",
     "output_type": "stream",
     "text": [
      "/Users/narendravarma/Documents/citi_bike_system/src/data_utils.py:83: DtypeWarning: Columns (7) have mixed types. Specify dtype option on import or set low_memory=False.\n",
      "  dfs.append(pd.read_csv(csv))\n"
     ]
    },
    {
     "name": "stdout",
     "output_type": "stream",
     "text": [
      "Converted to parquet: ../data/raw/rides_2024_11.parquet\n",
      "Cleaned up ZIP and CSV files\n",
      "Successfully downloaded data for 2024-11.\n",
      "Loading data for 2024-11...\n",
      "Total records: 3,696,124\n",
      "Valid records: 119,260\n",
      "Records dropped: 3,576,864 (96.77%)\n",
      "Successfully processed data for 2024-11.\n",
      "Downloading data for 2024-12...\n",
      "https://s3.amazonaws.com/tripdata/202412-citibike-tripdata.csv.zip returned 404\n",
      "Downloaded https://s3.amazonaws.com/tripdata/202412-citibike-tripdata.zip\n",
      "Extracted to ../data/raw\n",
      "Reading 202412-citibike-tripdata_1.csv\n"
     ]
    },
    {
     "name": "stderr",
     "output_type": "stream",
     "text": [
      "/Users/narendravarma/Documents/citi_bike_system/src/data_utils.py:83: DtypeWarning: Columns (5,7) have mixed types. Specify dtype option on import or set low_memory=False.\n",
      "  dfs.append(pd.read_csv(csv))\n"
     ]
    },
    {
     "name": "stdout",
     "output_type": "stream",
     "text": [
      "Reading 202412-citibike-tripdata_3.csv\n",
      "Reading 202412-citibike-tripdata_2.csv\n"
     ]
    },
    {
     "name": "stderr",
     "output_type": "stream",
     "text": [
      "/Users/narendravarma/Documents/citi_bike_system/src/data_utils.py:83: DtypeWarning: Columns (5,7) have mixed types. Specify dtype option on import or set low_memory=False.\n",
      "  dfs.append(pd.read_csv(csv))\n"
     ]
    },
    {
     "name": "stdout",
     "output_type": "stream",
     "text": [
      "Converted to parquet: ../data/raw/rides_2024_12.parquet\n",
      "Cleaned up ZIP and CSV files\n",
      "Successfully downloaded data for 2024-12.\n",
      "Loading data for 2024-12...\n",
      "Total records: 2,302,229\n",
      "Valid records: 74,450\n",
      "Records dropped: 2,227,779 (96.77%)\n",
      "Successfully processed data for 2024-12.\n",
      "Combining all monthly data...\n",
      "Data loading and processing complete!\n"
     ]
    }
   ],
   "source": [
    "rides = load_and_process_taxi_data(year=2024)"
   ]
  },
  {
   "cell_type": "code",
   "execution_count": 15,
   "id": "21de4ebb",
   "metadata": {},
   "outputs": [
    {
     "data": {
      "text/html": [
       "<div>\n",
       "<style scoped>\n",
       "    .dataframe tbody tr th:only-of-type {\n",
       "        vertical-align: middle;\n",
       "    }\n",
       "\n",
       "    .dataframe tbody tr th {\n",
       "        vertical-align: top;\n",
       "    }\n",
       "\n",
       "    .dataframe thead th {\n",
       "        text-align: right;\n",
       "    }\n",
       "</style>\n",
       "<table border=\"1\" class=\"dataframe\">\n",
       "  <thead>\n",
       "    <tr style=\"text-align: right;\">\n",
       "      <th></th>\n",
       "      <th>started_at</th>\n",
       "      <th>pickup_location_id</th>\n",
       "      <th>pickup_hour</th>\n",
       "    </tr>\n",
       "  </thead>\n",
       "  <tbody>\n",
       "    <tr>\n",
       "      <th>0</th>\n",
       "      <td>2024-01-22 12:18:53.512</td>\n",
       "      <td>5779</td>\n",
       "      <td>2024-01-22 12:00:00</td>\n",
       "    </tr>\n",
       "    <tr>\n",
       "      <th>1</th>\n",
       "      <td>2024-01-13 18:52:26.496</td>\n",
       "      <td>5779</td>\n",
       "      <td>2024-01-13 16:00:00</td>\n",
       "    </tr>\n",
       "    <tr>\n",
       "      <th>2</th>\n",
       "      <td>2024-01-31 16:59:37.612</td>\n",
       "      <td>5779</td>\n",
       "      <td>2024-01-31 16:00:00</td>\n",
       "    </tr>\n",
       "    <tr>\n",
       "      <th>3</th>\n",
       "      <td>2024-01-04 07:17:28.970</td>\n",
       "      <td>5779</td>\n",
       "      <td>2024-01-04 04:00:00</td>\n",
       "    </tr>\n",
       "    <tr>\n",
       "      <th>4</th>\n",
       "      <td>2024-01-12 09:06:28.532</td>\n",
       "      <td>5779</td>\n",
       "      <td>2024-01-12 08:00:00</td>\n",
       "    </tr>\n",
       "    <tr>\n",
       "      <th>...</th>\n",
       "      <td>...</td>\n",
       "      <td>...</td>\n",
       "      <td>...</td>\n",
       "    </tr>\n",
       "    <tr>\n",
       "      <th>1348712</th>\n",
       "      <td>2024-12-15 15:05:05.351</td>\n",
       "      <td>5905</td>\n",
       "      <td>2024-12-15 12:00:00</td>\n",
       "    </tr>\n",
       "    <tr>\n",
       "      <th>1348713</th>\n",
       "      <td>2024-12-30 09:08:31.156</td>\n",
       "      <td>5905</td>\n",
       "      <td>2024-12-30 08:00:00</td>\n",
       "    </tr>\n",
       "    <tr>\n",
       "      <th>1348714</th>\n",
       "      <td>2024-12-30 16:25:25.701</td>\n",
       "      <td>5788</td>\n",
       "      <td>2024-12-30 16:00:00</td>\n",
       "    </tr>\n",
       "    <tr>\n",
       "      <th>1348715</th>\n",
       "      <td>2024-12-30 16:47:39.666</td>\n",
       "      <td>5788</td>\n",
       "      <td>2024-12-30 16:00:00</td>\n",
       "    </tr>\n",
       "    <tr>\n",
       "      <th>1348716</th>\n",
       "      <td>2024-12-20 17:32:14.795</td>\n",
       "      <td>5788</td>\n",
       "      <td>2024-12-20 16:00:00</td>\n",
       "    </tr>\n",
       "  </tbody>\n",
       "</table>\n",
       "<p>1348717 rows × 3 columns</p>\n",
       "</div>"
      ],
      "text/plain": [
       "                     started_at  pickup_location_id         pickup_hour\n",
       "0       2024-01-22 12:18:53.512                5779 2024-01-22 12:00:00\n",
       "1       2024-01-13 18:52:26.496                5779 2024-01-13 16:00:00\n",
       "2       2024-01-31 16:59:37.612                5779 2024-01-31 16:00:00\n",
       "3       2024-01-04 07:17:28.970                5779 2024-01-04 04:00:00\n",
       "4       2024-01-12 09:06:28.532                5779 2024-01-12 08:00:00\n",
       "...                         ...                 ...                 ...\n",
       "1348712 2024-12-15 15:05:05.351                5905 2024-12-15 12:00:00\n",
       "1348713 2024-12-30 09:08:31.156                5905 2024-12-30 08:00:00\n",
       "1348714 2024-12-30 16:25:25.701                5788 2024-12-30 16:00:00\n",
       "1348715 2024-12-30 16:47:39.666                5788 2024-12-30 16:00:00\n",
       "1348716 2024-12-20 17:32:14.795                5788 2024-12-20 16:00:00\n",
       "\n",
       "[1348717 rows x 3 columns]"
      ]
     },
     "execution_count": 15,
     "metadata": {},
     "output_type": "execute_result"
    }
   ],
   "source": [
    "rides"
   ]
  },
  {
   "cell_type": "code",
   "execution_count": 16,
   "id": "a46bea1e",
   "metadata": {},
   "outputs": [
    {
     "data": {
      "text/html": [
       "<div>\n",
       "<style scoped>\n",
       "    .dataframe tbody tr th:only-of-type {\n",
       "        vertical-align: middle;\n",
       "    }\n",
       "\n",
       "    .dataframe tbody tr th {\n",
       "        vertical-align: top;\n",
       "    }\n",
       "\n",
       "    .dataframe thead th {\n",
       "        text-align: right;\n",
       "    }\n",
       "</style>\n",
       "<table border=\"1\" class=\"dataframe\">\n",
       "  <thead>\n",
       "    <tr style=\"text-align: right;\">\n",
       "      <th></th>\n",
       "      <th>pickup_hour</th>\n",
       "      <th>pickup_location_id</th>\n",
       "      <th>rides</th>\n",
       "    </tr>\n",
       "  </thead>\n",
       "  <tbody>\n",
       "    <tr>\n",
       "      <th>0</th>\n",
       "      <td>2023-12-31 20:00:00</td>\n",
       "      <td>5626</td>\n",
       "      <td>4</td>\n",
       "    </tr>\n",
       "    <tr>\n",
       "      <th>1</th>\n",
       "      <td>2024-01-01 00:00:00</td>\n",
       "      <td>5626</td>\n",
       "      <td>42</td>\n",
       "    </tr>\n",
       "    <tr>\n",
       "      <th>2</th>\n",
       "      <td>2024-01-01 04:00:00</td>\n",
       "      <td>5626</td>\n",
       "      <td>9</td>\n",
       "    </tr>\n",
       "    <tr>\n",
       "      <th>3</th>\n",
       "      <td>2024-01-01 08:00:00</td>\n",
       "      <td>5626</td>\n",
       "      <td>40</td>\n",
       "    </tr>\n",
       "    <tr>\n",
       "      <th>4</th>\n",
       "      <td>2024-01-01 12:00:00</td>\n",
       "      <td>5626</td>\n",
       "      <td>76</td>\n",
       "    </tr>\n",
       "  </tbody>\n",
       "</table>\n",
       "</div>"
      ],
      "text/plain": [
       "          pickup_hour  pickup_location_id  rides\n",
       "0 2023-12-31 20:00:00                5626      4\n",
       "1 2024-01-01 00:00:00                5626     42\n",
       "2 2024-01-01 04:00:00                5626      9\n",
       "3 2024-01-01 08:00:00                5626     40\n",
       "4 2024-01-01 12:00:00                5626     76"
      ]
     },
     "execution_count": 16,
     "metadata": {},
     "output_type": "execute_result"
    },
    {
     "data": {
      "text/plain": [
       "(10985, 3)"
      ]
     },
     "execution_count": 16,
     "metadata": {},
     "output_type": "execute_result"
    }
   ],
   "source": [
    "from src.data_utils import transform_raw_data_into_ts_data\n",
    "\n",
    "ts_data = transform_raw_data_into_ts_data(rides)\n",
    "ts_data.head()\n",
    "ts_data.shape"
   ]
  },
  {
   "cell_type": "code",
   "execution_count": 17,
   "id": "36da7241",
   "metadata": {},
   "outputs": [],
   "source": [
    "from src.data_utils import transform_ts_data_info_features_and_target_loop\n",
    "\n",
    "features, targets = transform_ts_data_info_features_and_target_loop(ts_data, window_size=6*28, step_size=1)\n"
   ]
  },
  {
   "cell_type": "code",
   "execution_count": 18,
   "id": "d7698af1",
   "metadata": {},
   "outputs": [
    {
     "data": {
      "text/html": [
       "<div>\n",
       "<style scoped>\n",
       "    .dataframe tbody tr th:only-of-type {\n",
       "        vertical-align: middle;\n",
       "    }\n",
       "\n",
       "    .dataframe tbody tr th {\n",
       "        vertical-align: top;\n",
       "    }\n",
       "\n",
       "    .dataframe thead th {\n",
       "        text-align: right;\n",
       "    }\n",
       "</style>\n",
       "<table border=\"1\" class=\"dataframe\">\n",
       "  <thead>\n",
       "    <tr style=\"text-align: right;\">\n",
       "      <th></th>\n",
       "      <th>rides_t-168</th>\n",
       "      <th>rides_t-167</th>\n",
       "      <th>rides_t-166</th>\n",
       "      <th>rides_t-165</th>\n",
       "      <th>rides_t-164</th>\n",
       "      <th>rides_t-163</th>\n",
       "      <th>rides_t-162</th>\n",
       "      <th>rides_t-161</th>\n",
       "      <th>rides_t-160</th>\n",
       "      <th>rides_t-159</th>\n",
       "      <th>...</th>\n",
       "      <th>rides_t-8</th>\n",
       "      <th>rides_t-7</th>\n",
       "      <th>rides_t-6</th>\n",
       "      <th>rides_t-5</th>\n",
       "      <th>rides_t-4</th>\n",
       "      <th>rides_t-3</th>\n",
       "      <th>rides_t-2</th>\n",
       "      <th>rides_t-1</th>\n",
       "      <th>pickup_hour</th>\n",
       "      <th>pickup_location_id</th>\n",
       "    </tr>\n",
       "  </thead>\n",
       "  <tbody>\n",
       "    <tr>\n",
       "      <th>0</th>\n",
       "      <td>4</td>\n",
       "      <td>42</td>\n",
       "      <td>9</td>\n",
       "      <td>40</td>\n",
       "      <td>76</td>\n",
       "      <td>65</td>\n",
       "      <td>30</td>\n",
       "      <td>4</td>\n",
       "      <td>40</td>\n",
       "      <td>73</td>\n",
       "      <td>...</td>\n",
       "      <td>150</td>\n",
       "      <td>106</td>\n",
       "      <td>60</td>\n",
       "      <td>25</td>\n",
       "      <td>3</td>\n",
       "      <td>28</td>\n",
       "      <td>37</td>\n",
       "      <td>49</td>\n",
       "      <td>2024-01-28 20:00:00</td>\n",
       "      <td>5626</td>\n",
       "    </tr>\n",
       "    <tr>\n",
       "      <th>1</th>\n",
       "      <td>42</td>\n",
       "      <td>9</td>\n",
       "      <td>40</td>\n",
       "      <td>76</td>\n",
       "      <td>65</td>\n",
       "      <td>30</td>\n",
       "      <td>4</td>\n",
       "      <td>40</td>\n",
       "      <td>73</td>\n",
       "      <td>68</td>\n",
       "      <td>...</td>\n",
       "      <td>106</td>\n",
       "      <td>60</td>\n",
       "      <td>25</td>\n",
       "      <td>3</td>\n",
       "      <td>28</td>\n",
       "      <td>37</td>\n",
       "      <td>49</td>\n",
       "      <td>40</td>\n",
       "      <td>2024-01-29 00:00:00</td>\n",
       "      <td>5626</td>\n",
       "    </tr>\n",
       "    <tr>\n",
       "      <th>2</th>\n",
       "      <td>9</td>\n",
       "      <td>40</td>\n",
       "      <td>76</td>\n",
       "      <td>65</td>\n",
       "      <td>30</td>\n",
       "      <td>4</td>\n",
       "      <td>40</td>\n",
       "      <td>73</td>\n",
       "      <td>68</td>\n",
       "      <td>87</td>\n",
       "      <td>...</td>\n",
       "      <td>60</td>\n",
       "      <td>25</td>\n",
       "      <td>3</td>\n",
       "      <td>28</td>\n",
       "      <td>37</td>\n",
       "      <td>49</td>\n",
       "      <td>40</td>\n",
       "      <td>10</td>\n",
       "      <td>2024-01-29 04:00:00</td>\n",
       "      <td>5626</td>\n",
       "    </tr>\n",
       "    <tr>\n",
       "      <th>3</th>\n",
       "      <td>40</td>\n",
       "      <td>76</td>\n",
       "      <td>65</td>\n",
       "      <td>30</td>\n",
       "      <td>4</td>\n",
       "      <td>40</td>\n",
       "      <td>73</td>\n",
       "      <td>68</td>\n",
       "      <td>87</td>\n",
       "      <td>43</td>\n",
       "      <td>...</td>\n",
       "      <td>25</td>\n",
       "      <td>3</td>\n",
       "      <td>28</td>\n",
       "      <td>37</td>\n",
       "      <td>49</td>\n",
       "      <td>40</td>\n",
       "      <td>10</td>\n",
       "      <td>25</td>\n",
       "      <td>2024-01-29 08:00:00</td>\n",
       "      <td>5626</td>\n",
       "    </tr>\n",
       "    <tr>\n",
       "      <th>4</th>\n",
       "      <td>76</td>\n",
       "      <td>65</td>\n",
       "      <td>30</td>\n",
       "      <td>4</td>\n",
       "      <td>40</td>\n",
       "      <td>73</td>\n",
       "      <td>68</td>\n",
       "      <td>87</td>\n",
       "      <td>43</td>\n",
       "      <td>9</td>\n",
       "      <td>...</td>\n",
       "      <td>3</td>\n",
       "      <td>28</td>\n",
       "      <td>37</td>\n",
       "      <td>49</td>\n",
       "      <td>40</td>\n",
       "      <td>10</td>\n",
       "      <td>25</td>\n",
       "      <td>89</td>\n",
       "      <td>2024-01-29 12:00:00</td>\n",
       "      <td>5626</td>\n",
       "    </tr>\n",
       "  </tbody>\n",
       "</table>\n",
       "<p>5 rows × 170 columns</p>\n",
       "</div>"
      ],
      "text/plain": [
       "   rides_t-168  rides_t-167  rides_t-166  rides_t-165  rides_t-164  \\\n",
       "0            4           42            9           40           76   \n",
       "1           42            9           40           76           65   \n",
       "2            9           40           76           65           30   \n",
       "3           40           76           65           30            4   \n",
       "4           76           65           30            4           40   \n",
       "\n",
       "   rides_t-163  rides_t-162  rides_t-161  rides_t-160  rides_t-159  ...  \\\n",
       "0           65           30            4           40           73  ...   \n",
       "1           30            4           40           73           68  ...   \n",
       "2            4           40           73           68           87  ...   \n",
       "3           40           73           68           87           43  ...   \n",
       "4           73           68           87           43            9  ...   \n",
       "\n",
       "   rides_t-8  rides_t-7  rides_t-6  rides_t-5  rides_t-4  rides_t-3  \\\n",
       "0        150        106         60         25          3         28   \n",
       "1        106         60         25          3         28         37   \n",
       "2         60         25          3         28         37         49   \n",
       "3         25          3         28         37         49         40   \n",
       "4          3         28         37         49         40         10   \n",
       "\n",
       "   rides_t-2  rides_t-1         pickup_hour  pickup_location_id  \n",
       "0         37         49 2024-01-28 20:00:00                5626  \n",
       "1         49         40 2024-01-29 00:00:00                5626  \n",
       "2         40         10 2024-01-29 04:00:00                5626  \n",
       "3         10         25 2024-01-29 08:00:00                5626  \n",
       "4         25         89 2024-01-29 12:00:00                5626  \n",
       "\n",
       "[5 rows x 170 columns]"
      ]
     },
     "execution_count": 18,
     "metadata": {},
     "output_type": "execute_result"
    }
   ],
   "source": [
    "features.head()"
   ]
  },
  {
   "cell_type": "code",
   "execution_count": 19,
   "id": "db126966",
   "metadata": {},
   "outputs": [],
   "source": [
    "tabular_data = features\n",
    "tabular_data[\"target\"] = targets\n",
    "\n",
    "from src.config import TRANSFORMED_DATA_DIR\n",
    "tabular_data.to_parquet(TRANSFORMED_DATA_DIR / \"tabular_data.parquet\", engine=\"pyarrow\")"
   ]
  },
  {
   "cell_type": "code",
   "execution_count": null,
   "id": "5e06db13",
   "metadata": {},
   "outputs": [],
   "source": []
  }
 ],
 "metadata": {
  "kernelspec": {
   "display_name": "my_proj_cda500_env",
   "language": "python",
   "name": "python3"
  },
  "language_info": {
   "codemirror_mode": {
    "name": "ipython",
    "version": 3
   },
   "file_extension": ".py",
   "mimetype": "text/x-python",
   "name": "python",
   "nbconvert_exporter": "python",
   "pygments_lexer": "ipython3",
   "version": "3.10.16"
  }
 },
 "nbformat": 4,
 "nbformat_minor": 5
}
