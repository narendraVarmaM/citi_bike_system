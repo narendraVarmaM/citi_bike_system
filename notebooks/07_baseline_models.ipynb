{
 "cells": [
  {
   "cell_type": "code",
   "execution_count": 1,
   "id": "5e7fd51d-f4fc-4583-94ae-2bfd9388224c",
   "metadata": {},
   "outputs": [],
   "source": [
    "%load_ext autoreload\n",
    "%autoreload 2"
   ]
  },
  {
   "cell_type": "code",
   "execution_count": 36,
   "id": "ca4e773b-3fdb-4db2-a8b3-fcf09bd54f2f",
   "metadata": {},
   "outputs": [],
   "source": [
    "import sys\n",
    "import os\n",
    "\n",
    "# Add the parent directory to the Python path\n",
    "sys.path.append(os.path.abspath(os.path.join(os.getcwd(), \"..\")))"
   ]
  },
  {
   "cell_type": "code",
   "execution_count": 37,
   "id": "9b160f27-7330-42ef-abdf-a65053027038",
   "metadata": {},
   "outputs": [
    {
     "data": {
      "text/html": [
       "<div>\n",
       "<style scoped>\n",
       "    .dataframe tbody tr th:only-of-type {\n",
       "        vertical-align: middle;\n",
       "    }\n",
       "\n",
       "    .dataframe tbody tr th {\n",
       "        vertical-align: top;\n",
       "    }\n",
       "\n",
       "    .dataframe thead th {\n",
       "        text-align: right;\n",
       "    }\n",
       "</style>\n",
       "<table border=\"1\" class=\"dataframe\">\n",
       "  <thead>\n",
       "    <tr style=\"text-align: right;\">\n",
       "      <th></th>\n",
       "      <th>rides_t-168</th>\n",
       "      <th>rides_t-167</th>\n",
       "      <th>rides_t-166</th>\n",
       "      <th>rides_t-165</th>\n",
       "      <th>rides_t-164</th>\n",
       "      <th>rides_t-163</th>\n",
       "      <th>rides_t-162</th>\n",
       "      <th>rides_t-161</th>\n",
       "      <th>rides_t-160</th>\n",
       "      <th>rides_t-159</th>\n",
       "      <th>...</th>\n",
       "      <th>rides_t-7</th>\n",
       "      <th>rides_t-6</th>\n",
       "      <th>rides_t-5</th>\n",
       "      <th>rides_t-4</th>\n",
       "      <th>rides_t-3</th>\n",
       "      <th>rides_t-2</th>\n",
       "      <th>rides_t-1</th>\n",
       "      <th>pickup_hour</th>\n",
       "      <th>pickup_location_id</th>\n",
       "      <th>target</th>\n",
       "    </tr>\n",
       "  </thead>\n",
       "  <tbody>\n",
       "    <tr>\n",
       "      <th>0</th>\n",
       "      <td>4</td>\n",
       "      <td>42</td>\n",
       "      <td>9</td>\n",
       "      <td>40</td>\n",
       "      <td>76</td>\n",
       "      <td>65</td>\n",
       "      <td>30</td>\n",
       "      <td>4</td>\n",
       "      <td>40</td>\n",
       "      <td>73</td>\n",
       "      <td>...</td>\n",
       "      <td>106</td>\n",
       "      <td>60</td>\n",
       "      <td>25</td>\n",
       "      <td>3</td>\n",
       "      <td>28</td>\n",
       "      <td>37</td>\n",
       "      <td>49</td>\n",
       "      <td>2024-01-28 20:00:00</td>\n",
       "      <td>5626</td>\n",
       "      <td>40</td>\n",
       "    </tr>\n",
       "    <tr>\n",
       "      <th>1</th>\n",
       "      <td>42</td>\n",
       "      <td>9</td>\n",
       "      <td>40</td>\n",
       "      <td>76</td>\n",
       "      <td>65</td>\n",
       "      <td>30</td>\n",
       "      <td>4</td>\n",
       "      <td>40</td>\n",
       "      <td>73</td>\n",
       "      <td>68</td>\n",
       "      <td>...</td>\n",
       "      <td>60</td>\n",
       "      <td>25</td>\n",
       "      <td>3</td>\n",
       "      <td>28</td>\n",
       "      <td>37</td>\n",
       "      <td>49</td>\n",
       "      <td>40</td>\n",
       "      <td>2024-01-29 00:00:00</td>\n",
       "      <td>5626</td>\n",
       "      <td>10</td>\n",
       "    </tr>\n",
       "    <tr>\n",
       "      <th>2</th>\n",
       "      <td>9</td>\n",
       "      <td>40</td>\n",
       "      <td>76</td>\n",
       "      <td>65</td>\n",
       "      <td>30</td>\n",
       "      <td>4</td>\n",
       "      <td>40</td>\n",
       "      <td>73</td>\n",
       "      <td>68</td>\n",
       "      <td>87</td>\n",
       "      <td>...</td>\n",
       "      <td>25</td>\n",
       "      <td>3</td>\n",
       "      <td>28</td>\n",
       "      <td>37</td>\n",
       "      <td>49</td>\n",
       "      <td>40</td>\n",
       "      <td>10</td>\n",
       "      <td>2024-01-29 04:00:00</td>\n",
       "      <td>5626</td>\n",
       "      <td>25</td>\n",
       "    </tr>\n",
       "    <tr>\n",
       "      <th>3</th>\n",
       "      <td>40</td>\n",
       "      <td>76</td>\n",
       "      <td>65</td>\n",
       "      <td>30</td>\n",
       "      <td>4</td>\n",
       "      <td>40</td>\n",
       "      <td>73</td>\n",
       "      <td>68</td>\n",
       "      <td>87</td>\n",
       "      <td>43</td>\n",
       "      <td>...</td>\n",
       "      <td>3</td>\n",
       "      <td>28</td>\n",
       "      <td>37</td>\n",
       "      <td>49</td>\n",
       "      <td>40</td>\n",
       "      <td>10</td>\n",
       "      <td>25</td>\n",
       "      <td>2024-01-29 08:00:00</td>\n",
       "      <td>5626</td>\n",
       "      <td>89</td>\n",
       "    </tr>\n",
       "    <tr>\n",
       "      <th>4</th>\n",
       "      <td>76</td>\n",
       "      <td>65</td>\n",
       "      <td>30</td>\n",
       "      <td>4</td>\n",
       "      <td>40</td>\n",
       "      <td>73</td>\n",
       "      <td>68</td>\n",
       "      <td>87</td>\n",
       "      <td>43</td>\n",
       "      <td>9</td>\n",
       "      <td>...</td>\n",
       "      <td>28</td>\n",
       "      <td>37</td>\n",
       "      <td>49</td>\n",
       "      <td>40</td>\n",
       "      <td>10</td>\n",
       "      <td>25</td>\n",
       "      <td>89</td>\n",
       "      <td>2024-01-29 12:00:00</td>\n",
       "      <td>5626</td>\n",
       "      <td>83</td>\n",
       "    </tr>\n",
       "    <tr>\n",
       "      <th>...</th>\n",
       "      <td>...</td>\n",
       "      <td>...</td>\n",
       "      <td>...</td>\n",
       "      <td>...</td>\n",
       "      <td>...</td>\n",
       "      <td>...</td>\n",
       "      <td>...</td>\n",
       "      <td>...</td>\n",
       "      <td>...</td>\n",
       "      <td>...</td>\n",
       "      <td>...</td>\n",
       "      <td>...</td>\n",
       "      <td>...</td>\n",
       "      <td>...</td>\n",
       "      <td>...</td>\n",
       "      <td>...</td>\n",
       "      <td>...</td>\n",
       "      <td>...</td>\n",
       "      <td>...</td>\n",
       "      <td>...</td>\n",
       "      <td>...</td>\n",
       "    </tr>\n",
       "    <tr>\n",
       "      <th>10140</th>\n",
       "      <td>32</td>\n",
       "      <td>137</td>\n",
       "      <td>111</td>\n",
       "      <td>133</td>\n",
       "      <td>51</td>\n",
       "      <td>9</td>\n",
       "      <td>31</td>\n",
       "      <td>137</td>\n",
       "      <td>108</td>\n",
       "      <td>147</td>\n",
       "      <td>...</td>\n",
       "      <td>8</td>\n",
       "      <td>13</td>\n",
       "      <td>52</td>\n",
       "      <td>118</td>\n",
       "      <td>88</td>\n",
       "      <td>45</td>\n",
       "      <td>14</td>\n",
       "      <td>2024-12-31 04:00:00</td>\n",
       "      <td>6072</td>\n",
       "      <td>8</td>\n",
       "    </tr>\n",
       "    <tr>\n",
       "      <th>10141</th>\n",
       "      <td>137</td>\n",
       "      <td>111</td>\n",
       "      <td>133</td>\n",
       "      <td>51</td>\n",
       "      <td>9</td>\n",
       "      <td>31</td>\n",
       "      <td>137</td>\n",
       "      <td>108</td>\n",
       "      <td>147</td>\n",
       "      <td>48</td>\n",
       "      <td>...</td>\n",
       "      <td>13</td>\n",
       "      <td>52</td>\n",
       "      <td>118</td>\n",
       "      <td>88</td>\n",
       "      <td>45</td>\n",
       "      <td>14</td>\n",
       "      <td>8</td>\n",
       "      <td>2024-12-31 08:00:00</td>\n",
       "      <td>6072</td>\n",
       "      <td>80</td>\n",
       "    </tr>\n",
       "    <tr>\n",
       "      <th>10142</th>\n",
       "      <td>111</td>\n",
       "      <td>133</td>\n",
       "      <td>51</td>\n",
       "      <td>9</td>\n",
       "      <td>31</td>\n",
       "      <td>137</td>\n",
       "      <td>108</td>\n",
       "      <td>147</td>\n",
       "      <td>48</td>\n",
       "      <td>5</td>\n",
       "      <td>...</td>\n",
       "      <td>52</td>\n",
       "      <td>118</td>\n",
       "      <td>88</td>\n",
       "      <td>45</td>\n",
       "      <td>14</td>\n",
       "      <td>8</td>\n",
       "      <td>80</td>\n",
       "      <td>2024-12-31 12:00:00</td>\n",
       "      <td>6072</td>\n",
       "      <td>105</td>\n",
       "    </tr>\n",
       "    <tr>\n",
       "      <th>10143</th>\n",
       "      <td>133</td>\n",
       "      <td>51</td>\n",
       "      <td>9</td>\n",
       "      <td>31</td>\n",
       "      <td>137</td>\n",
       "      <td>108</td>\n",
       "      <td>147</td>\n",
       "      <td>48</td>\n",
       "      <td>5</td>\n",
       "      <td>27</td>\n",
       "      <td>...</td>\n",
       "      <td>118</td>\n",
       "      <td>88</td>\n",
       "      <td>45</td>\n",
       "      <td>14</td>\n",
       "      <td>8</td>\n",
       "      <td>80</td>\n",
       "      <td>105</td>\n",
       "      <td>2024-12-31 16:00:00</td>\n",
       "      <td>6072</td>\n",
       "      <td>63</td>\n",
       "    </tr>\n",
       "    <tr>\n",
       "      <th>10144</th>\n",
       "      <td>51</td>\n",
       "      <td>9</td>\n",
       "      <td>31</td>\n",
       "      <td>137</td>\n",
       "      <td>108</td>\n",
       "      <td>147</td>\n",
       "      <td>48</td>\n",
       "      <td>5</td>\n",
       "      <td>27</td>\n",
       "      <td>116</td>\n",
       "      <td>...</td>\n",
       "      <td>88</td>\n",
       "      <td>45</td>\n",
       "      <td>14</td>\n",
       "      <td>8</td>\n",
       "      <td>80</td>\n",
       "      <td>105</td>\n",
       "      <td>63</td>\n",
       "      <td>2024-12-31 20:00:00</td>\n",
       "      <td>6072</td>\n",
       "      <td>18</td>\n",
       "    </tr>\n",
       "  </tbody>\n",
       "</table>\n",
       "<p>10145 rows × 171 columns</p>\n",
       "</div>"
      ],
      "text/plain": [
       "       rides_t-168  rides_t-167  rides_t-166  rides_t-165  rides_t-164  \\\n",
       "0                4           42            9           40           76   \n",
       "1               42            9           40           76           65   \n",
       "2                9           40           76           65           30   \n",
       "3               40           76           65           30            4   \n",
       "4               76           65           30            4           40   \n",
       "...            ...          ...          ...          ...          ...   \n",
       "10140           32          137          111          133           51   \n",
       "10141          137          111          133           51            9   \n",
       "10142          111          133           51            9           31   \n",
       "10143          133           51            9           31          137   \n",
       "10144           51            9           31          137          108   \n",
       "\n",
       "       rides_t-163  rides_t-162  rides_t-161  rides_t-160  rides_t-159  ...  \\\n",
       "0               65           30            4           40           73  ...   \n",
       "1               30            4           40           73           68  ...   \n",
       "2                4           40           73           68           87  ...   \n",
       "3               40           73           68           87           43  ...   \n",
       "4               73           68           87           43            9  ...   \n",
       "...            ...          ...          ...          ...          ...  ...   \n",
       "10140            9           31          137          108          147  ...   \n",
       "10141           31          137          108          147           48  ...   \n",
       "10142          137          108          147           48            5  ...   \n",
       "10143          108          147           48            5           27  ...   \n",
       "10144          147           48            5           27          116  ...   \n",
       "\n",
       "       rides_t-7  rides_t-6  rides_t-5  rides_t-4  rides_t-3  rides_t-2  \\\n",
       "0            106         60         25          3         28         37   \n",
       "1             60         25          3         28         37         49   \n",
       "2             25          3         28         37         49         40   \n",
       "3              3         28         37         49         40         10   \n",
       "4             28         37         49         40         10         25   \n",
       "...          ...        ...        ...        ...        ...        ...   \n",
       "10140          8         13         52        118         88         45   \n",
       "10141         13         52        118         88         45         14   \n",
       "10142         52        118         88         45         14          8   \n",
       "10143        118         88         45         14          8         80   \n",
       "10144         88         45         14          8         80        105   \n",
       "\n",
       "       rides_t-1         pickup_hour  pickup_location_id  target  \n",
       "0             49 2024-01-28 20:00:00                5626      40  \n",
       "1             40 2024-01-29 00:00:00                5626      10  \n",
       "2             10 2024-01-29 04:00:00                5626      25  \n",
       "3             25 2024-01-29 08:00:00                5626      89  \n",
       "4             89 2024-01-29 12:00:00                5626      83  \n",
       "...          ...                 ...                 ...     ...  \n",
       "10140         14 2024-12-31 04:00:00                6072       8  \n",
       "10141          8 2024-12-31 08:00:00                6072      80  \n",
       "10142         80 2024-12-31 12:00:00                6072     105  \n",
       "10143        105 2024-12-31 16:00:00                6072      63  \n",
       "10144         63 2024-12-31 20:00:00                6072      18  \n",
       "\n",
       "[10145 rows x 171 columns]"
      ]
     },
     "execution_count": 37,
     "metadata": {},
     "output_type": "execute_result"
    }
   ],
   "source": [
    "import pandas as pd\n",
    "from src.config import TRANSFORMED_DATA_DIR\n",
    "\n",
    "df = pd.read_parquet(TRANSFORMED_DATA_DIR / \"tabular_data.parquet\")\n",
    "df"
   ]
  },
  {
   "cell_type": "code",
   "execution_count": 38,
   "id": "375ff8cf-b58e-4e8c-8d91-80b325d5cf31",
   "metadata": {},
   "outputs": [
    {
     "name": "stdout",
     "output_type": "stream",
     "text": [
      "(7385, 170)\n",
      "(7385,)\n",
      "(2760, 170)\n",
      "(2760,)\n"
     ]
    }
   ],
   "source": [
    "from datetime import datetime\n",
    "\n",
    "from src.data_utils import split_time_series_data\n",
    "\n",
    "X_train, y_train, X_test, y_test = split_time_series_data(\n",
    "    df,\n",
    "    cutoff_date=datetime(2024, 10, 1, 0, 0, 0),\n",
    "    target_column=\"target\"\n",
    ")\n",
    "\n",
    "print(X_train.shape)\n",
    "print(y_train.shape)\n",
    "print(X_test.shape)\n",
    "print(y_test.shape)"
   ]
  },
  {
   "cell_type": "code",
   "execution_count": 39,
   "id": "607bfb35-84cf-4410-a4ac-5075d1d4a8f1",
   "metadata": {},
   "outputs": [],
   "source": [
    "import numpy as np\n",
    "\n",
    "class BaselineModelPreviousHour:\n",
    "\n",
    "    def fit(self, X_train: pd.DataFrame, y_train: pd.Series):\n",
    "        pass\n",
    "\n",
    "    def predict(self, X_test: pd.DataFrame) -> np.array:\n",
    "        return X_test[\"rides_t-1\"]"
   ]
  },
  {
   "cell_type": "code",
   "execution_count": 40,
   "id": "6bd315ce-2039-4ebf-9c1d-d56003bf3db2",
   "metadata": {},
   "outputs": [],
   "source": [
    "model = BaselineModelPreviousHour()\n",
    "predictions = model.predict(X_test)"
   ]
  },
  {
   "cell_type": "code",
   "execution_count": 41,
   "id": "23ab1392-4ba7-48a9-88d7-c882bf500222",
   "metadata": {},
   "outputs": [
    {
     "name": "stdout",
     "output_type": "stream",
     "text": [
      "79.9496\n"
     ]
    }
   ],
   "source": [
    "from sklearn.metrics import mean_absolute_error\n",
    "\n",
    "test_mae = mean_absolute_error(y_test, predictions)\n",
    "print(f\"{test_mae:.4f}\")"
   ]
  },
  {
   "cell_type": "code",
   "execution_count": 42,
   "id": "11720ffd",
   "metadata": {},
   "outputs": [
    {
     "name": "stdout",
     "output_type": "stream",
     "text": [
      "Requirement already satisfied: dagshub in /opt/anaconda3/envs/my_proj_cda500_env/lib/python3.10/site-packages (0.5.9)\n",
      "Requirement already satisfied: PyYAML>=5 in /opt/anaconda3/envs/my_proj_cda500_env/lib/python3.10/site-packages (from dagshub) (6.0.2)\n",
      "Requirement already satisfied: appdirs>=1.4.4 in /opt/anaconda3/envs/my_proj_cda500_env/lib/python3.10/site-packages (from dagshub) (1.4.4)\n",
      "Requirement already satisfied: click>=8.0.4 in /opt/anaconda3/envs/my_proj_cda500_env/lib/python3.10/site-packages (from dagshub) (8.1.8)\n",
      "Requirement already satisfied: httpx>=0.23.0 in /opt/anaconda3/envs/my_proj_cda500_env/lib/python3.10/site-packages (from dagshub) (0.27.0)\n",
      "Requirement already satisfied: GitPython>=3.1.29 in /opt/anaconda3/envs/my_proj_cda500_env/lib/python3.10/site-packages (from dagshub) (3.1.44)\n",
      "Requirement already satisfied: rich>=13.1.0 in /opt/anaconda3/envs/my_proj_cda500_env/lib/python3.10/site-packages (from dagshub) (14.0.0)\n",
      "Requirement already satisfied: dacite~=1.6.0 in /opt/anaconda3/envs/my_proj_cda500_env/lib/python3.10/site-packages (from dagshub) (1.6.0)\n",
      "Requirement already satisfied: tenacity>=8.2.2 in /opt/anaconda3/envs/my_proj_cda500_env/lib/python3.10/site-packages (from dagshub) (9.0.0)\n",
      "Requirement already satisfied: gql[requests] in /opt/anaconda3/envs/my_proj_cda500_env/lib/python3.10/site-packages (from dagshub) (3.5.2)\n",
      "Requirement already satisfied: dataclasses-json in /opt/anaconda3/envs/my_proj_cda500_env/lib/python3.10/site-packages (from dagshub) (0.6.7)\n",
      "Requirement already satisfied: pandas in /opt/anaconda3/envs/my_proj_cda500_env/lib/python3.10/site-packages (from dagshub) (2.1.4)\n",
      "Requirement already satisfied: treelib>=1.6.4 in /opt/anaconda3/envs/my_proj_cda500_env/lib/python3.10/site-packages (from dagshub) (1.7.1)\n",
      "Requirement already satisfied: pathvalidate>=3.0.0 in /opt/anaconda3/envs/my_proj_cda500_env/lib/python3.10/site-packages (from dagshub) (3.2.3)\n",
      "Requirement already satisfied: python-dateutil in /opt/anaconda3/envs/my_proj_cda500_env/lib/python3.10/site-packages (from dagshub) (2.9.0.post0)\n",
      "Requirement already satisfied: boto3 in /opt/anaconda3/envs/my_proj_cda500_env/lib/python3.10/site-packages (from dagshub) (1.37.5)\n",
      "Requirement already satisfied: semver in /opt/anaconda3/envs/my_proj_cda500_env/lib/python3.10/site-packages (from dagshub) (3.0.4)\n",
      "Requirement already satisfied: dagshub-annotation-converter>=0.1.5 in /opt/anaconda3/envs/my_proj_cda500_env/lib/python3.10/site-packages (from dagshub) (0.1.9)\n",
      "Requirement already satisfied: lxml in /opt/anaconda3/envs/my_proj_cda500_env/lib/python3.10/site-packages (from dagshub-annotation-converter>=0.1.5->dagshub) (5.4.0)\n",
      "Requirement already satisfied: pillow in /opt/anaconda3/envs/my_proj_cda500_env/lib/python3.10/site-packages (from dagshub-annotation-converter>=0.1.5->dagshub) (11.1.0)\n",
      "Requirement already satisfied: pydantic>=2.0.0 in /opt/anaconda3/envs/my_proj_cda500_env/lib/python3.10/site-packages (from dagshub-annotation-converter>=0.1.5->dagshub) (2.10.6)\n",
      "Requirement already satisfied: typing-extensions in /opt/anaconda3/envs/my_proj_cda500_env/lib/python3.10/site-packages (from dagshub-annotation-converter>=0.1.5->dagshub) (4.12.2)\n",
      "Requirement already satisfied: gitdb<5,>=4.0.1 in /opt/anaconda3/envs/my_proj_cda500_env/lib/python3.10/site-packages (from GitPython>=3.1.29->dagshub) (4.0.12)\n",
      "Requirement already satisfied: anyio in /opt/anaconda3/envs/my_proj_cda500_env/lib/python3.10/site-packages (from httpx>=0.23.0->dagshub) (4.6.2)\n",
      "Requirement already satisfied: certifi in /opt/anaconda3/envs/my_proj_cda500_env/lib/python3.10/site-packages (from httpx>=0.23.0->dagshub) (2025.1.31)\n",
      "Requirement already satisfied: httpcore==1.* in /opt/anaconda3/envs/my_proj_cda500_env/lib/python3.10/site-packages (from httpx>=0.23.0->dagshub) (1.0.2)\n",
      "Requirement already satisfied: idna in /opt/anaconda3/envs/my_proj_cda500_env/lib/python3.10/site-packages (from httpx>=0.23.0->dagshub) (3.7)\n",
      "Requirement already satisfied: sniffio in /opt/anaconda3/envs/my_proj_cda500_env/lib/python3.10/site-packages (from httpx>=0.23.0->dagshub) (1.3.0)\n",
      "Requirement already satisfied: h11<0.15,>=0.13 in /opt/anaconda3/envs/my_proj_cda500_env/lib/python3.10/site-packages (from httpcore==1.*->httpx>=0.23.0->dagshub) (0.14.0)\n",
      "Requirement already satisfied: markdown-it-py>=2.2.0 in /opt/anaconda3/envs/my_proj_cda500_env/lib/python3.10/site-packages (from rich>=13.1.0->dagshub) (3.0.0)\n",
      "Requirement already satisfied: pygments<3.0.0,>=2.13.0 in /opt/anaconda3/envs/my_proj_cda500_env/lib/python3.10/site-packages (from rich>=13.1.0->dagshub) (2.15.1)\n",
      "Requirement already satisfied: six in /opt/anaconda3/envs/my_proj_cda500_env/lib/python3.10/site-packages (from treelib>=1.6.4->dagshub) (1.16.0)\n",
      "Requirement already satisfied: botocore<1.38.0,>=1.37.5 in /opt/anaconda3/envs/my_proj_cda500_env/lib/python3.10/site-packages (from boto3->dagshub) (1.37.17)\n",
      "Requirement already satisfied: jmespath<2.0.0,>=0.7.1 in /opt/anaconda3/envs/my_proj_cda500_env/lib/python3.10/site-packages (from boto3->dagshub) (1.0.1)\n",
      "Requirement already satisfied: s3transfer<0.12.0,>=0.11.0 in /opt/anaconda3/envs/my_proj_cda500_env/lib/python3.10/site-packages (from boto3->dagshub) (0.11.3)\n",
      "Requirement already satisfied: marshmallow<4.0.0,>=3.18.0 in /opt/anaconda3/envs/my_proj_cda500_env/lib/python3.10/site-packages (from dataclasses-json->dagshub) (3.26.1)\n",
      "Requirement already satisfied: typing-inspect<1,>=0.4.0 in /opt/anaconda3/envs/my_proj_cda500_env/lib/python3.10/site-packages (from dataclasses-json->dagshub) (0.9.0)\n",
      "Requirement already satisfied: graphql-core<3.2.5,>=3.2 in /opt/anaconda3/envs/my_proj_cda500_env/lib/python3.10/site-packages (from gql[requests]->dagshub) (3.2.4)\n",
      "Requirement already satisfied: yarl<2.0,>=1.6 in /opt/anaconda3/envs/my_proj_cda500_env/lib/python3.10/site-packages (from gql[requests]->dagshub) (1.20.0)\n",
      "Requirement already satisfied: backoff<3.0,>=1.11.1 in /opt/anaconda3/envs/my_proj_cda500_env/lib/python3.10/site-packages (from gql[requests]->dagshub) (2.2.1)\n",
      "Requirement already satisfied: requests<3,>=2.26 in /opt/anaconda3/envs/my_proj_cda500_env/lib/python3.10/site-packages (from gql[requests]->dagshub) (2.32.3)\n",
      "Requirement already satisfied: requests-toolbelt<2,>=1.0.0 in /opt/anaconda3/envs/my_proj_cda500_env/lib/python3.10/site-packages (from gql[requests]->dagshub) (1.0.0)\n",
      "Requirement already satisfied: numpy<2,>=1.22.4 in /opt/anaconda3/envs/my_proj_cda500_env/lib/python3.10/site-packages (from pandas->dagshub) (1.26.4)\n",
      "Requirement already satisfied: pytz>=2020.1 in /opt/anaconda3/envs/my_proj_cda500_env/lib/python3.10/site-packages (from pandas->dagshub) (2024.1)\n",
      "Requirement already satisfied: tzdata>=2022.1 in /opt/anaconda3/envs/my_proj_cda500_env/lib/python3.10/site-packages (from pandas->dagshub) (2023.3)\n",
      "Requirement already satisfied: exceptiongroup>=1.0.2 in /opt/anaconda3/envs/my_proj_cda500_env/lib/python3.10/site-packages (from anyio->httpx>=0.23.0->dagshub) (1.2.0)\n",
      "Requirement already satisfied: urllib3!=2.2.0,<3,>=1.25.4 in /opt/anaconda3/envs/my_proj_cda500_env/lib/python3.10/site-packages (from botocore<1.38.0,>=1.37.5->boto3->dagshub) (2.3.0)\n",
      "Requirement already satisfied: smmap<6,>=3.0.1 in /opt/anaconda3/envs/my_proj_cda500_env/lib/python3.10/site-packages (from gitdb<5,>=4.0.1->GitPython>=3.1.29->dagshub) (5.0.2)\n",
      "Requirement already satisfied: mdurl~=0.1 in /opt/anaconda3/envs/my_proj_cda500_env/lib/python3.10/site-packages (from markdown-it-py>=2.2.0->rich>=13.1.0->dagshub) (0.1.2)\n",
      "Requirement already satisfied: packaging>=17.0 in /opt/anaconda3/envs/my_proj_cda500_env/lib/python3.10/site-packages (from marshmallow<4.0.0,>=3.18.0->dataclasses-json->dagshub) (24.2)\n",
      "Requirement already satisfied: annotated-types>=0.6.0 in /opt/anaconda3/envs/my_proj_cda500_env/lib/python3.10/site-packages (from pydantic>=2.0.0->dagshub-annotation-converter>=0.1.5->dagshub) (0.7.0)\n",
      "Requirement already satisfied: pydantic-core==2.27.2 in /opt/anaconda3/envs/my_proj_cda500_env/lib/python3.10/site-packages (from pydantic>=2.0.0->dagshub-annotation-converter>=0.1.5->dagshub) (2.27.2)\n",
      "Requirement already satisfied: charset-normalizer<4,>=2 in /opt/anaconda3/envs/my_proj_cda500_env/lib/python3.10/site-packages (from requests<3,>=2.26->gql[requests]->dagshub) (3.3.2)\n",
      "Requirement already satisfied: mypy-extensions>=0.3.0 in /opt/anaconda3/envs/my_proj_cda500_env/lib/python3.10/site-packages (from typing-inspect<1,>=0.4.0->dataclasses-json->dagshub) (1.1.0)\n",
      "Requirement already satisfied: multidict>=4.0 in /opt/anaconda3/envs/my_proj_cda500_env/lib/python3.10/site-packages (from yarl<2.0,>=1.6->gql[requests]->dagshub) (6.4.3)\n",
      "Requirement already satisfied: propcache>=0.2.1 in /opt/anaconda3/envs/my_proj_cda500_env/lib/python3.10/site-packages (from yarl<2.0,>=1.6->gql[requests]->dagshub) (0.3.1)\n",
      "\n",
      "\u001b[1m[\u001b[0m\u001b[34;49mnotice\u001b[0m\u001b[1;39;49m]\u001b[0m\u001b[39;49m A new release of pip is available: \u001b[0m\u001b[31;49m25.0.1\u001b[0m\u001b[39;49m -> \u001b[0m\u001b[32;49m25.1.1\u001b[0m\n",
      "\u001b[1m[\u001b[0m\u001b[34;49mnotice\u001b[0m\u001b[1;39;49m]\u001b[0m\u001b[39;49m To update, run: \u001b[0m\u001b[32;49mpip install --upgrade pip\u001b[0m\n"
     ]
    }
   ],
   "source": [
    "!pip install dagshub\n"
   ]
  },
  {
   "cell_type": "code",
   "execution_count": 43,
   "id": "1cd98cb4-c618-4e4d-8cca-d457edea1698",
   "metadata": {},
   "outputs": [
    {
     "name": "stderr",
     "output_type": "stream",
     "text": [
      "INFO:httpx:HTTP Request: GET https://dagshub.com/api/v1/repos/mnv12699/citibike \"HTTP/1.1 200 OK\"\n"
     ]
    },
    {
     "data": {
      "text/html": [
       "<pre style=\"white-space:pre;overflow-x:auto;line-height:normal;font-family:Menlo,'DejaVu Sans Mono',consolas,'Courier New',monospace\">Initialized MLflow to track repo <span style=\"color: #008000; text-decoration-color: #008000\">\"mnv12699/citibike\"</span>\n",
       "</pre>\n"
      ],
      "text/plain": [
       "Initialized MLflow to track repo \u001b[32m\"mnv12699/citibike\"\u001b[0m\n"
      ]
     },
     "metadata": {},
     "output_type": "display_data"
    },
    {
     "name": "stderr",
     "output_type": "stream",
     "text": [
      "INFO:dagshub:Initialized MLflow to track repo \"mnv12699/citibike\"\n"
     ]
    },
    {
     "data": {
      "text/html": [
       "<pre style=\"white-space:pre;overflow-x:auto;line-height:normal;font-family:Menlo,'DejaVu Sans Mono',consolas,'Courier New',monospace\">Repository mnv12699/citibike initialized!\n",
       "</pre>\n"
      ],
      "text/plain": [
       "Repository mnv12699/citibike initialized!\n"
      ]
     },
     "metadata": {},
     "output_type": "display_data"
    },
    {
     "name": "stderr",
     "output_type": "stream",
     "text": [
      "INFO:dagshub:Repository mnv12699/citibike initialized!\n",
      "INFO:src.experiment_utils:MLflow tracking URI and credentials set.\n"
     ]
    }
   ],
   "source": [
    "from src.experiment_utils import set_mlflow_tracking, log_model_to_mlflow\n",
    "from dotenv import load_dotenv\n",
    "load_dotenv() \n",
    "import os\n",
    "mlflow = set_mlflow_tracking()"
   ]
  },
  {
   "cell_type": "code",
   "execution_count": 44,
   "id": "c8576dca-2866-4934-9f84-1975c8386e6e",
   "metadata": {},
   "outputs": [
    {
     "name": "stdout",
     "output_type": "stream",
     "text": [
      "\n",
      "\u001b[1m[\u001b[0m\u001b[34;49mnotice\u001b[0m\u001b[1;39;49m]\u001b[0m\u001b[39;49m A new release of pip is available: \u001b[0m\u001b[31;49m25.0.1\u001b[0m\u001b[39;49m -> \u001b[0m\u001b[32;49m25.1.1\u001b[0m\n",
      "\u001b[1m[\u001b[0m\u001b[34;49mnotice\u001b[0m\u001b[1;39;49m]\u001b[0m\u001b[39;49m To update, run: \u001b[0m\u001b[32;49mpip install --upgrade pip\u001b[0m\n",
      "Note: you may need to restart the kernel to use updated packages.\n"
     ]
    }
   ],
   "source": [
    "%pip install -q dagshub mlflow"
   ]
  },
  {
   "cell_type": "code",
   "execution_count": 45,
   "id": "610da629-c7b8-43e0-aa41-85451ce07c6e",
   "metadata": {},
   "outputs": [
    {
     "name": "stderr",
     "output_type": "stream",
     "text": [
      "INFO:httpx:HTTP Request: GET https://dagshub.com/api/v1/repos/mnv12699/citibike \"HTTP/1.1 200 OK\"\n"
     ]
    },
    {
     "data": {
      "text/html": [
       "<pre style=\"white-space:pre;overflow-x:auto;line-height:normal;font-family:Menlo,'DejaVu Sans Mono',consolas,'Courier New',monospace\">Initialized MLflow to track repo <span style=\"color: #008000; text-decoration-color: #008000\">\"mnv12699/citibike\"</span>\n",
       "</pre>\n"
      ],
      "text/plain": [
       "Initialized MLflow to track repo \u001b[32m\"mnv12699/citibike\"\u001b[0m\n"
      ]
     },
     "metadata": {},
     "output_type": "display_data"
    },
    {
     "name": "stderr",
     "output_type": "stream",
     "text": [
      "INFO:dagshub:Initialized MLflow to track repo \"mnv12699/citibike\"\n"
     ]
    },
    {
     "data": {
      "text/html": [
       "<pre style=\"white-space:pre;overflow-x:auto;line-height:normal;font-family:Menlo,'DejaVu Sans Mono',consolas,'Courier New',monospace\">Repository mnv12699/citibike initialized!\n",
       "</pre>\n"
      ],
      "text/plain": [
       "Repository mnv12699/citibike initialized!\n"
      ]
     },
     "metadata": {},
     "output_type": "display_data"
    },
    {
     "name": "stderr",
     "output_type": "stream",
     "text": [
      "INFO:dagshub:Repository mnv12699/citibike initialized!\n"
     ]
    },
    {
     "name": "stdout",
     "output_type": "stream",
     "text": [
      "✅ MLflow Tracking URI: https://dagshub.com/mnv12699/citibike.mlflow\n"
     ]
    }
   ],
   "source": [
    "import dagshub\n",
    "import mlflow\n",
    "dagshub.init(repo_owner='mnv12699', repo_name='citibike', mlflow=True)\n",
    "\n",
    "# Set the MLflow Tracking URI via Dagshub initialization\n",
    "print(\"✅ MLflow Tracking URI:\", mlflow.get_tracking_uri())"
   ]
  },
  {
   "cell_type": "code",
   "execution_count": 46,
   "id": "9158e303",
   "metadata": {},
   "outputs": [
    {
     "name": "stderr",
     "output_type": "stream",
     "text": [
      "INFO:httpx:HTTP Request: GET https://dagshub.com/api/v1/repos/mnv12699/citibike \"HTTP/1.1 200 OK\"\n"
     ]
    },
    {
     "data": {
      "text/html": [
       "<pre style=\"white-space:pre;overflow-x:auto;line-height:normal;font-family:Menlo,'DejaVu Sans Mono',consolas,'Courier New',monospace\">Initialized MLflow to track repo <span style=\"color: #008000; text-decoration-color: #008000\">\"mnv12699/citibike\"</span>\n",
       "</pre>\n"
      ],
      "text/plain": [
       "Initialized MLflow to track repo \u001b[32m\"mnv12699/citibike\"\u001b[0m\n"
      ]
     },
     "metadata": {},
     "output_type": "display_data"
    },
    {
     "name": "stderr",
     "output_type": "stream",
     "text": [
      "INFO:dagshub:Initialized MLflow to track repo \"mnv12699/citibike\"\n"
     ]
    },
    {
     "data": {
      "text/html": [
       "<pre style=\"white-space:pre;overflow-x:auto;line-height:normal;font-family:Menlo,'DejaVu Sans Mono',consolas,'Courier New',monospace\">Repository mnv12699/citibike initialized!\n",
       "</pre>\n"
      ],
      "text/plain": [
       "Repository mnv12699/citibike initialized!\n"
      ]
     },
     "metadata": {},
     "output_type": "display_data"
    },
    {
     "name": "stderr",
     "output_type": "stream",
     "text": [
      "INFO:dagshub:Repository mnv12699/citibike initialized!\n",
      "INFO:src.experiment_utils:MLflow tracking URI and credentials set.\n"
     ]
    }
   ],
   "source": [
    "from src.experiment_utils import set_mlflow_tracking, log_model_to_mlflow\n",
    "from dotenv import load_dotenv\n",
    "load_dotenv() \n",
    "import os\n",
    "mlflow = set_mlflow_tracking()"
   ]
  },
  {
   "cell_type": "code",
   "execution_count": 47,
   "id": "48af73a3-62fd-4096-bc52-685e9cd787cf",
   "metadata": {},
   "outputs": [
    {
     "name": "stderr",
     "output_type": "stream",
     "text": [
      "INFO:src.experiment_utils:Experiment set to: BaselineModelPreviousHour\n",
      "INFO:src.experiment_utils:Logged mean_absolute_error: 79.94963768115942\n",
      "/opt/anaconda3/envs/my_proj_cda500_env/lib/python3.10/site-packages/mlflow/types/utils.py:452: UserWarning:\n",
      "\n",
      "Hint: Inferred schema contains integer column(s). Integer columns in Python cannot represent missing values. If your input data contains missing values at inference time, it will be encoded as floats and will cause a schema enforcement error. The best way to avoid this problem is to infer the model schema based on a realistic data sample (training dataset) that includes missing values. Alternatively, you can declare integer columns as doubles (float64) whenever these columns may have missing values. See `Handling Integers With Missing Values <https://www.mlflow.org/docs/latest/models.html#handling-integers-with-missing-values>`_ for more details.\n",
      "\n",
      "INFO:src.experiment_utils:Model signature inferred.\n",
      "Registered model 'BaselineModelPreviousHour' already exists. Creating a new version of this model...\n",
      "2025/05/11 03:35:44 INFO mlflow.store.model_registry.abstract_store: Waiting up to 300 seconds for model version to finish creation. Model name: BaselineModelPreviousHour, version 3\n",
      "Created version '3' of model 'BaselineModelPreviousHour'.\n",
      "INFO:src.experiment_utils:Model logged with name: BaselineModelPreviousHour\n"
     ]
    },
    {
     "name": "stdout",
     "output_type": "stream",
     "text": [
      "🏃 View run burly-doe-768 at: https://dagshub.com/mnv12699/citibike.mlflow/#/experiments/0/runs/62ebbe88c4974d3191c50427719d0528\n",
      "🧪 View experiment at: https://dagshub.com/mnv12699/citibike.mlflow/#/experiments/0\n"
     ]
    },
    {
     "data": {
      "text/plain": [
       "<mlflow.models.model.ModelInfo at 0x35f200f40>"
      ]
     },
     "execution_count": 47,
     "metadata": {},
     "output_type": "execute_result"
    }
   ],
   "source": [
    "log_model_to_mlflow(model, X_test, \"BaselineModelPreviousHour\", \"mean_absolute_error\", score=test_mae)"
   ]
  },
  {
   "cell_type": "code",
   "execution_count": 48,
   "id": "3a514fbb-4ea7-4261-802e-b6d9572ddd76",
   "metadata": {},
   "outputs": [],
   "source": [
    "import numpy as np\n",
    "\n",
    "class BaselineModelPreviousWeek:\n",
    "\n",
    "    def fit(self, X_train: pd.DataFrame, y_train: pd.Series):\n",
    "        pass\n",
    "\n",
    "    def predict(self, X_test: pd.DataFrame) -> np.array:\n",
    "        return X_test[f\"rides_t-{7*6}\"]"
   ]
  },
  {
   "cell_type": "code",
   "execution_count": 49,
   "id": "ce2a60d5-75ce-493f-b938-6f4112abf9eb",
   "metadata": {},
   "outputs": [],
   "source": [
    "model = BaselineModelPreviousWeek()\n",
    "predictions = model.predict(X_test)"
   ]
  },
  {
   "cell_type": "code",
   "execution_count": 50,
   "id": "5de6b0c8-a9f9-434c-be3e-d7cdf5a4c8ec",
   "metadata": {},
   "outputs": [
    {
     "name": "stdout",
     "output_type": "stream",
     "text": [
      "32.4547\n"
     ]
    }
   ],
   "source": [
    "test_mae = mean_absolute_error(y_test, predictions)\n",
    "print(f\"{test_mae:.4f}\")"
   ]
  },
  {
   "cell_type": "code",
   "execution_count": 51,
   "id": "db5cf5f3-3be7-4735-8b43-d752599aedc4",
   "metadata": {},
   "outputs": [
    {
     "name": "stderr",
     "output_type": "stream",
     "text": [
      "INFO:src.experiment_utils:Experiment set to: BaselineModelPreviousWeek\n",
      "INFO:src.experiment_utils:Logged mean_absolute_error: 32.45471014492754\n",
      "/opt/anaconda3/envs/my_proj_cda500_env/lib/python3.10/site-packages/mlflow/types/utils.py:452: UserWarning:\n",
      "\n",
      "Hint: Inferred schema contains integer column(s). Integer columns in Python cannot represent missing values. If your input data contains missing values at inference time, it will be encoded as floats and will cause a schema enforcement error. The best way to avoid this problem is to infer the model schema based on a realistic data sample (training dataset) that includes missing values. Alternatively, you can declare integer columns as doubles (float64) whenever these columns may have missing values. See `Handling Integers With Missing Values <https://www.mlflow.org/docs/latest/models.html#handling-integers-with-missing-values>`_ for more details.\n",
      "\n",
      "INFO:src.experiment_utils:Model signature inferred.\n",
      "Registered model 'BaselineModelPreviousWeek' already exists. Creating a new version of this model...\n",
      "2025/05/11 03:36:19 INFO mlflow.store.model_registry.abstract_store: Waiting up to 300 seconds for model version to finish creation. Model name: BaselineModelPreviousWeek, version 2\n",
      "Created version '2' of model 'BaselineModelPreviousWeek'.\n",
      "INFO:src.experiment_utils:Model logged with name: BaselineModelPreviousWeek\n"
     ]
    },
    {
     "name": "stdout",
     "output_type": "stream",
     "text": [
      "🏃 View run rebellious-roo-460 at: https://dagshub.com/mnv12699/citibike.mlflow/#/experiments/1/runs/1f6063f0d52a4848970d563dfe778756\n",
      "🧪 View experiment at: https://dagshub.com/mnv12699/citibike.mlflow/#/experiments/1\n"
     ]
    },
    {
     "data": {
      "text/plain": [
       "<mlflow.models.model.ModelInfo at 0x35d510f40>"
      ]
     },
     "execution_count": 51,
     "metadata": {},
     "output_type": "execute_result"
    }
   ],
   "source": [
    "log_model_to_mlflow(model, X_test, \"BaselineModelPreviousWeek\", \"mean_absolute_error\", score=test_mae)"
   ]
  },
  {
   "cell_type": "code",
   "execution_count": 53,
   "id": "81cdad64-c6b2-44fc-8cf1-38803199e771",
   "metadata": {},
   "outputs": [],
   "source": [
    "import numpy as np\n",
    "import pandas as pd\n",
    "\n",
    "class BaselineModelLast4Weeks:\n",
    "    \"\"\"\n",
    "    A baseline model that predicts the average of the last 4 weeks (28 days)\n",
    "    for each test instance.\n",
    "    \"\"\"\n",
    "\n",
    "    def fit(self, X_train: pd.DataFrame, y_train: pd.Series):\n",
    "        \"\"\"\n",
    "        The fit method is not used in this baseline model as it does not learn\n",
    "        from the training data.\n",
    "        \"\"\"\n",
    "        pass\n",
    "\n",
    "    def predict(self, X_test: pd.DataFrame) -> np.array:\n",
    "        \"\"\"\n",
    "        Predicts the average of the last 4 weeks (28 days) for each test instance.\n",
    "\n",
    "        Parameters:\n",
    "            X_test (pd.DataFrame): The test DataFrame containing lagged features\n",
    "                                   (e.g., rides_t-{7*24}, rides_t-{14*24}, etc.).\n",
    "\n",
    "        Returns:\n",
    "            np.array: An array of predictions based on the average of the last 4 weeks.\n",
    "        \"\"\"\n",
    "        # Define the columns for the last 4 weeks\n",
    "        last_4_weeks_columns = [\n",
    "            f\"rides_t-{7*6}\",  # 1 week ago\n",
    "            f\"rides_t-{14*6}\", # 2 weeks ago\n",
    "            f\"rides_t-{21*6}\", # 3 weeks ago\n",
    "            f\"rides_t-{28*6}\"  # 4 weeks ago\n",
    "        ]\n",
    "\n",
    "        # Ensure the required columns exist in the test DataFrame\n",
    "        for col in last_4_weeks_columns:\n",
    "            if col not in X_test.columns:\n",
    "                raise ValueError(f\"Missing required column: {col}\")\n",
    "\n",
    "        # Calculate the average of the last 4 weeks\n",
    "        predictions = X_test[last_4_weeks_columns].mean(axis=1)\n",
    "\n",
    "        return predictions.to_numpy()"
   ]
  },
  {
   "cell_type": "code",
   "execution_count": 54,
   "id": "c578e858-3a10-4903-9647-394d975f4a50",
   "metadata": {},
   "outputs": [],
   "source": [
    "model = BaselineModelLast4Weeks()\n",
    "predictions = model.predict(X_test)"
   ]
  },
  {
   "cell_type": "code",
   "execution_count": 55,
   "id": "ef59ced3-dae5-4ef8-bcc8-234012e4377c",
   "metadata": {},
   "outputs": [
    {
     "data": {
      "text/html": [
       "<div>\n",
       "<style scoped>\n",
       "    .dataframe tbody tr th:only-of-type {\n",
       "        vertical-align: middle;\n",
       "    }\n",
       "\n",
       "    .dataframe tbody tr th {\n",
       "        vertical-align: top;\n",
       "    }\n",
       "\n",
       "    .dataframe thead th {\n",
       "        text-align: right;\n",
       "    }\n",
       "</style>\n",
       "<table border=\"1\" class=\"dataframe\">\n",
       "  <thead>\n",
       "    <tr style=\"text-align: right;\">\n",
       "      <th></th>\n",
       "      <th>rides_t-168</th>\n",
       "      <th>rides_t-167</th>\n",
       "      <th>rides_t-166</th>\n",
       "      <th>rides_t-165</th>\n",
       "      <th>rides_t-164</th>\n",
       "      <th>rides_t-163</th>\n",
       "      <th>rides_t-162</th>\n",
       "      <th>rides_t-161</th>\n",
       "      <th>rides_t-160</th>\n",
       "      <th>rides_t-159</th>\n",
       "      <th>...</th>\n",
       "      <th>rides_t-8</th>\n",
       "      <th>rides_t-7</th>\n",
       "      <th>rides_t-6</th>\n",
       "      <th>rides_t-5</th>\n",
       "      <th>rides_t-4</th>\n",
       "      <th>rides_t-3</th>\n",
       "      <th>rides_t-2</th>\n",
       "      <th>rides_t-1</th>\n",
       "      <th>pickup_hour</th>\n",
       "      <th>pickup_location_id</th>\n",
       "    </tr>\n",
       "  </thead>\n",
       "  <tbody>\n",
       "    <tr>\n",
       "      <th>0</th>\n",
       "      <td>25</td>\n",
       "      <td>91</td>\n",
       "      <td>254</td>\n",
       "      <td>188</td>\n",
       "      <td>279</td>\n",
       "      <td>133</td>\n",
       "      <td>36</td>\n",
       "      <td>98</td>\n",
       "      <td>245</td>\n",
       "      <td>172</td>\n",
       "      <td>...</td>\n",
       "      <td>212</td>\n",
       "      <td>110</td>\n",
       "      <td>35</td>\n",
       "      <td>82</td>\n",
       "      <td>214</td>\n",
       "      <td>211</td>\n",
       "      <td>252</td>\n",
       "      <td>112</td>\n",
       "      <td>2024-10-01 00:00:00</td>\n",
       "      <td>5626</td>\n",
       "    </tr>\n",
       "    <tr>\n",
       "      <th>1</th>\n",
       "      <td>91</td>\n",
       "      <td>254</td>\n",
       "      <td>188</td>\n",
       "      <td>279</td>\n",
       "      <td>133</td>\n",
       "      <td>36</td>\n",
       "      <td>98</td>\n",
       "      <td>245</td>\n",
       "      <td>172</td>\n",
       "      <td>276</td>\n",
       "      <td>...</td>\n",
       "      <td>110</td>\n",
       "      <td>35</td>\n",
       "      <td>82</td>\n",
       "      <td>214</td>\n",
       "      <td>211</td>\n",
       "      <td>252</td>\n",
       "      <td>112</td>\n",
       "      <td>26</td>\n",
       "      <td>2024-10-01 04:00:00</td>\n",
       "      <td>5626</td>\n",
       "    </tr>\n",
       "    <tr>\n",
       "      <th>2</th>\n",
       "      <td>254</td>\n",
       "      <td>188</td>\n",
       "      <td>279</td>\n",
       "      <td>133</td>\n",
       "      <td>36</td>\n",
       "      <td>98</td>\n",
       "      <td>245</td>\n",
       "      <td>172</td>\n",
       "      <td>276</td>\n",
       "      <td>184</td>\n",
       "      <td>...</td>\n",
       "      <td>35</td>\n",
       "      <td>82</td>\n",
       "      <td>214</td>\n",
       "      <td>211</td>\n",
       "      <td>252</td>\n",
       "      <td>112</td>\n",
       "      <td>26</td>\n",
       "      <td>105</td>\n",
       "      <td>2024-10-01 08:00:00</td>\n",
       "      <td>5626</td>\n",
       "    </tr>\n",
       "    <tr>\n",
       "      <th>3</th>\n",
       "      <td>188</td>\n",
       "      <td>279</td>\n",
       "      <td>133</td>\n",
       "      <td>36</td>\n",
       "      <td>98</td>\n",
       "      <td>245</td>\n",
       "      <td>172</td>\n",
       "      <td>276</td>\n",
       "      <td>184</td>\n",
       "      <td>31</td>\n",
       "      <td>...</td>\n",
       "      <td>82</td>\n",
       "      <td>214</td>\n",
       "      <td>211</td>\n",
       "      <td>252</td>\n",
       "      <td>112</td>\n",
       "      <td>26</td>\n",
       "      <td>105</td>\n",
       "      <td>232</td>\n",
       "      <td>2024-10-01 12:00:00</td>\n",
       "      <td>5626</td>\n",
       "    </tr>\n",
       "    <tr>\n",
       "      <th>4</th>\n",
       "      <td>279</td>\n",
       "      <td>133</td>\n",
       "      <td>36</td>\n",
       "      <td>98</td>\n",
       "      <td>245</td>\n",
       "      <td>172</td>\n",
       "      <td>276</td>\n",
       "      <td>184</td>\n",
       "      <td>31</td>\n",
       "      <td>106</td>\n",
       "      <td>...</td>\n",
       "      <td>214</td>\n",
       "      <td>211</td>\n",
       "      <td>252</td>\n",
       "      <td>112</td>\n",
       "      <td>26</td>\n",
       "      <td>105</td>\n",
       "      <td>232</td>\n",
       "      <td>180</td>\n",
       "      <td>2024-10-01 16:00:00</td>\n",
       "      <td>5626</td>\n",
       "    </tr>\n",
       "    <tr>\n",
       "      <th>...</th>\n",
       "      <td>...</td>\n",
       "      <td>...</td>\n",
       "      <td>...</td>\n",
       "      <td>...</td>\n",
       "      <td>...</td>\n",
       "      <td>...</td>\n",
       "      <td>...</td>\n",
       "      <td>...</td>\n",
       "      <td>...</td>\n",
       "      <td>...</td>\n",
       "      <td>...</td>\n",
       "      <td>...</td>\n",
       "      <td>...</td>\n",
       "      <td>...</td>\n",
       "      <td>...</td>\n",
       "      <td>...</td>\n",
       "      <td>...</td>\n",
       "      <td>...</td>\n",
       "      <td>...</td>\n",
       "      <td>...</td>\n",
       "      <td>...</td>\n",
       "    </tr>\n",
       "    <tr>\n",
       "      <th>547</th>\n",
       "      <td>69</td>\n",
       "      <td>146</td>\n",
       "      <td>127</td>\n",
       "      <td>178</td>\n",
       "      <td>92</td>\n",
       "      <td>13</td>\n",
       "      <td>66</td>\n",
       "      <td>177</td>\n",
       "      <td>125</td>\n",
       "      <td>158</td>\n",
       "      <td>...</td>\n",
       "      <td>55</td>\n",
       "      <td>13</td>\n",
       "      <td>21</td>\n",
       "      <td>96</td>\n",
       "      <td>157</td>\n",
       "      <td>120</td>\n",
       "      <td>82</td>\n",
       "      <td>35</td>\n",
       "      <td>2024-12-31 04:00:00</td>\n",
       "      <td>5626</td>\n",
       "    </tr>\n",
       "    <tr>\n",
       "      <th>548</th>\n",
       "      <td>146</td>\n",
       "      <td>127</td>\n",
       "      <td>178</td>\n",
       "      <td>92</td>\n",
       "      <td>13</td>\n",
       "      <td>66</td>\n",
       "      <td>177</td>\n",
       "      <td>125</td>\n",
       "      <td>158</td>\n",
       "      <td>70</td>\n",
       "      <td>...</td>\n",
       "      <td>13</td>\n",
       "      <td>21</td>\n",
       "      <td>96</td>\n",
       "      <td>157</td>\n",
       "      <td>120</td>\n",
       "      <td>82</td>\n",
       "      <td>35</td>\n",
       "      <td>22</td>\n",
       "      <td>2024-12-31 08:00:00</td>\n",
       "      <td>5626</td>\n",
       "    </tr>\n",
       "    <tr>\n",
       "      <th>549</th>\n",
       "      <td>127</td>\n",
       "      <td>178</td>\n",
       "      <td>92</td>\n",
       "      <td>13</td>\n",
       "      <td>66</td>\n",
       "      <td>177</td>\n",
       "      <td>125</td>\n",
       "      <td>158</td>\n",
       "      <td>70</td>\n",
       "      <td>8</td>\n",
       "      <td>...</td>\n",
       "      <td>21</td>\n",
       "      <td>96</td>\n",
       "      <td>157</td>\n",
       "      <td>120</td>\n",
       "      <td>82</td>\n",
       "      <td>35</td>\n",
       "      <td>22</td>\n",
       "      <td>78</td>\n",
       "      <td>2024-12-31 12:00:00</td>\n",
       "      <td>5626</td>\n",
       "    </tr>\n",
       "    <tr>\n",
       "      <th>550</th>\n",
       "      <td>178</td>\n",
       "      <td>92</td>\n",
       "      <td>13</td>\n",
       "      <td>66</td>\n",
       "      <td>177</td>\n",
       "      <td>125</td>\n",
       "      <td>158</td>\n",
       "      <td>70</td>\n",
       "      <td>8</td>\n",
       "      <td>55</td>\n",
       "      <td>...</td>\n",
       "      <td>96</td>\n",
       "      <td>157</td>\n",
       "      <td>120</td>\n",
       "      <td>82</td>\n",
       "      <td>35</td>\n",
       "      <td>22</td>\n",
       "      <td>78</td>\n",
       "      <td>145</td>\n",
       "      <td>2024-12-31 16:00:00</td>\n",
       "      <td>5626</td>\n",
       "    </tr>\n",
       "    <tr>\n",
       "      <th>551</th>\n",
       "      <td>92</td>\n",
       "      <td>13</td>\n",
       "      <td>66</td>\n",
       "      <td>177</td>\n",
       "      <td>125</td>\n",
       "      <td>158</td>\n",
       "      <td>70</td>\n",
       "      <td>8</td>\n",
       "      <td>55</td>\n",
       "      <td>189</td>\n",
       "      <td>...</td>\n",
       "      <td>157</td>\n",
       "      <td>120</td>\n",
       "      <td>82</td>\n",
       "      <td>35</td>\n",
       "      <td>22</td>\n",
       "      <td>78</td>\n",
       "      <td>145</td>\n",
       "      <td>143</td>\n",
       "      <td>2024-12-31 20:00:00</td>\n",
       "      <td>5626</td>\n",
       "    </tr>\n",
       "  </tbody>\n",
       "</table>\n",
       "<p>552 rows × 170 columns</p>\n",
       "</div>"
      ],
      "text/plain": [
       "     rides_t-168  rides_t-167  rides_t-166  rides_t-165  rides_t-164  \\\n",
       "0             25           91          254          188          279   \n",
       "1             91          254          188          279          133   \n",
       "2            254          188          279          133           36   \n",
       "3            188          279          133           36           98   \n",
       "4            279          133           36           98          245   \n",
       "..           ...          ...          ...          ...          ...   \n",
       "547           69          146          127          178           92   \n",
       "548          146          127          178           92           13   \n",
       "549          127          178           92           13           66   \n",
       "550          178           92           13           66          177   \n",
       "551           92           13           66          177          125   \n",
       "\n",
       "     rides_t-163  rides_t-162  rides_t-161  rides_t-160  rides_t-159  ...  \\\n",
       "0            133           36           98          245          172  ...   \n",
       "1             36           98          245          172          276  ...   \n",
       "2             98          245          172          276          184  ...   \n",
       "3            245          172          276          184           31  ...   \n",
       "4            172          276          184           31          106  ...   \n",
       "..           ...          ...          ...          ...          ...  ...   \n",
       "547           13           66          177          125          158  ...   \n",
       "548           66          177          125          158           70  ...   \n",
       "549          177          125          158           70            8  ...   \n",
       "550          125          158           70            8           55  ...   \n",
       "551          158           70            8           55          189  ...   \n",
       "\n",
       "     rides_t-8  rides_t-7  rides_t-6  rides_t-5  rides_t-4  rides_t-3  \\\n",
       "0          212        110         35         82        214        211   \n",
       "1          110         35         82        214        211        252   \n",
       "2           35         82        214        211        252        112   \n",
       "3           82        214        211        252        112         26   \n",
       "4          214        211        252        112         26        105   \n",
       "..         ...        ...        ...        ...        ...        ...   \n",
       "547         55         13         21         96        157        120   \n",
       "548         13         21         96        157        120         82   \n",
       "549         21         96        157        120         82         35   \n",
       "550         96        157        120         82         35         22   \n",
       "551        157        120         82         35         22         78   \n",
       "\n",
       "     rides_t-2  rides_t-1         pickup_hour  pickup_location_id  \n",
       "0          252        112 2024-10-01 00:00:00                5626  \n",
       "1          112         26 2024-10-01 04:00:00                5626  \n",
       "2           26        105 2024-10-01 08:00:00                5626  \n",
       "3          105        232 2024-10-01 12:00:00                5626  \n",
       "4          232        180 2024-10-01 16:00:00                5626  \n",
       "..         ...        ...                 ...                 ...  \n",
       "547         82         35 2024-12-31 04:00:00                5626  \n",
       "548         35         22 2024-12-31 08:00:00                5626  \n",
       "549         22         78 2024-12-31 12:00:00                5626  \n",
       "550         78        145 2024-12-31 16:00:00                5626  \n",
       "551        145        143 2024-12-31 20:00:00                5626  \n",
       "\n",
       "[552 rows x 170 columns]"
      ]
     },
     "execution_count": 55,
     "metadata": {},
     "output_type": "execute_result"
    }
   ],
   "source": [
    "X_test[X_test['pickup_location_id']==5626] "
   ]
  },
  {
   "cell_type": "code",
   "execution_count": 56,
   "id": "e106e233-1396-41e9-8906-1d45a1ab6972",
   "metadata": {},
   "outputs": [
    {
     "name": "stdout",
     "output_type": "stream",
     "text": [
      "31.2624\n"
     ]
    }
   ],
   "source": [
    "test_mae = mean_absolute_error(y_test, predictions)\n",
    "print(f\"{test_mae:.4f}\")"
   ]
  },
  {
   "cell_type": "code",
   "execution_count": 57,
   "id": "1da51143-c03b-4e23-ab83-2154b8f12f92",
   "metadata": {},
   "outputs": [
    {
     "name": "stderr",
     "output_type": "stream",
     "text": [
      "INFO:src.experiment_utils:Experiment set to: BaselineModelLast4Weeks\n",
      "INFO:src.experiment_utils:Logged mean_absolute_error: 31.262409420289856\n",
      "/opt/anaconda3/envs/my_proj_cda500_env/lib/python3.10/site-packages/mlflow/types/utils.py:452: UserWarning:\n",
      "\n",
      "Hint: Inferred schema contains integer column(s). Integer columns in Python cannot represent missing values. If your input data contains missing values at inference time, it will be encoded as floats and will cause a schema enforcement error. The best way to avoid this problem is to infer the model schema based on a realistic data sample (training dataset) that includes missing values. Alternatively, you can declare integer columns as doubles (float64) whenever these columns may have missing values. See `Handling Integers With Missing Values <https://www.mlflow.org/docs/latest/models.html#handling-integers-with-missing-values>`_ for more details.\n",
      "\n",
      "INFO:src.experiment_utils:Model signature inferred.\n",
      "Registered model 'BaselineModelLast4Weeks' already exists. Creating a new version of this model...\n",
      "2025/05/11 03:37:45 INFO mlflow.store.model_registry.abstract_store: Waiting up to 300 seconds for model version to finish creation. Model name: BaselineModelLast4Weeks, version 2\n",
      "Created version '2' of model 'BaselineModelLast4Weeks'.\n",
      "INFO:src.experiment_utils:Model logged with name: BaselineModelLast4Weeks\n"
     ]
    },
    {
     "name": "stdout",
     "output_type": "stream",
     "text": [
      "🏃 View run gifted-wasp-129 at: https://dagshub.com/mnv12699/citibike.mlflow/#/experiments/2/runs/5892f5f8f5584d8a9291209a08f47f35\n",
      "🧪 View experiment at: https://dagshub.com/mnv12699/citibike.mlflow/#/experiments/2\n"
     ]
    },
    {
     "data": {
      "text/plain": [
       "<mlflow.models.model.ModelInfo at 0x332ed00a0>"
      ]
     },
     "execution_count": 57,
     "metadata": {},
     "output_type": "execute_result"
    }
   ],
   "source": [
    "log_model_to_mlflow(model, X_test, \"BaselineModelLast4Weeks\", \"mean_absolute_error\", score=test_mae)"
   ]
  },
  {
   "cell_type": "code",
   "execution_count": 58,
   "id": "d271232c-97c6-499b-b5c8-0a66149c5fef",
   "metadata": {},
   "outputs": [
    {
     "data": {
      "application/vnd.plotly.v1+json": {
       "config": {
        "plotlyServerURL": "https://plot.ly"
       },
       "data": [
        {
         "hovertemplate": "Time=%{x}<br>Ride Counts=%{y}<extra></extra>",
         "legendgroup": "",
         "line": {
          "color": "#636efa",
          "dash": "solid"
         },
         "marker": {
          "symbol": "circle"
         },
         "mode": "lines+markers",
         "name": "",
         "orientation": "v",
         "showlegend": false,
         "type": "scatter",
         "x": [
          "2024-10-06T08:00:00.000000000",
          "2024-10-06T12:00:00.000000000",
          "2024-10-06T16:00:00.000000000",
          "2024-10-06T20:00:00.000000000",
          "2024-10-07T00:00:00.000000000",
          "2024-10-07T04:00:00.000000000",
          "2024-10-07T08:00:00.000000000",
          "2024-10-07T12:00:00.000000000",
          "2024-10-07T16:00:00.000000000",
          "2024-10-07T20:00:00.000000000",
          "2024-10-08T00:00:00.000000000",
          "2024-10-08T04:00:00.000000000",
          "2024-10-08T08:00:00.000000000",
          "2024-10-08T12:00:00.000000000",
          "2024-10-08T16:00:00.000000000",
          "2024-10-08T20:00:00.000000000",
          "2024-10-09T00:00:00.000000000",
          "2024-10-09T04:00:00.000000000",
          "2024-10-09T08:00:00.000000000",
          "2024-10-09T12:00:00.000000000",
          "2024-10-09T16:00:00.000000000",
          "2024-10-09T20:00:00.000000000",
          "2024-10-10T00:00:00.000000000",
          "2024-10-10T04:00:00.000000000",
          "2024-10-10T08:00:00.000000000",
          "2024-10-10T12:00:00.000000000",
          "2024-10-10T16:00:00.000000000",
          "2024-10-10T20:00:00.000000000",
          "2024-10-11T00:00:00.000000000",
          "2024-10-11T04:00:00.000000000",
          "2024-10-11T08:00:00.000000000",
          "2024-10-11T12:00:00.000000000",
          "2024-10-11T16:00:00.000000000",
          "2024-10-11T20:00:00.000000000",
          "2024-10-12T00:00:00.000000000",
          "2024-10-12T04:00:00.000000000",
          "2024-10-12T08:00:00.000000000",
          "2024-10-12T12:00:00.000000000",
          "2024-10-12T16:00:00.000000000",
          "2024-10-12T20:00:00.000000000",
          "2024-10-13T00:00:00.000000000",
          "2024-10-13T04:00:00.000000000",
          "2024-10-13T08:00:00.000000000",
          "2024-10-13T12:00:00.000000000",
          "2024-10-13T16:00:00.000000000",
          "2024-10-13T20:00:00.000000000",
          "2024-10-14T00:00:00.000000000",
          "2024-10-14T04:00:00.000000000",
          "2024-10-14T08:00:00.000000000",
          "2024-10-14T12:00:00.000000000",
          "2024-10-14T16:00:00.000000000",
          "2024-10-14T20:00:00.000000000",
          "2024-10-15T00:00:00.000000000",
          "2024-10-15T04:00:00.000000000",
          "2024-10-15T08:00:00.000000000",
          "2024-10-15T12:00:00.000000000",
          "2024-10-15T16:00:00.000000000",
          "2024-10-15T20:00:00.000000000",
          "2024-10-16T00:00:00.000000000",
          "2024-10-16T04:00:00.000000000",
          "2024-10-16T08:00:00.000000000",
          "2024-10-16T12:00:00.000000000",
          "2024-10-16T16:00:00.000000000",
          "2024-10-16T20:00:00.000000000",
          "2024-10-17T00:00:00.000000000",
          "2024-10-17T04:00:00.000000000",
          "2024-10-17T08:00:00.000000000",
          "2024-10-17T12:00:00.000000000",
          "2024-10-17T16:00:00.000000000",
          "2024-10-17T20:00:00.000000000",
          "2024-10-18T00:00:00.000000000",
          "2024-10-18T04:00:00.000000000",
          "2024-10-18T08:00:00.000000000",
          "2024-10-18T12:00:00.000000000",
          "2024-10-18T16:00:00.000000000",
          "2024-10-18T20:00:00.000000000",
          "2024-10-19T00:00:00.000000000",
          "2024-10-19T04:00:00.000000000",
          "2024-10-19T08:00:00.000000000",
          "2024-10-19T12:00:00.000000000",
          "2024-10-19T16:00:00.000000000",
          "2024-10-19T20:00:00.000000000",
          "2024-10-20T00:00:00.000000000",
          "2024-10-20T04:00:00.000000000",
          "2024-10-20T08:00:00.000000000",
          "2024-10-20T12:00:00.000000000",
          "2024-10-20T16:00:00.000000000",
          "2024-10-20T20:00:00.000000000",
          "2024-10-21T00:00:00.000000000",
          "2024-10-21T04:00:00.000000000",
          "2024-10-21T08:00:00.000000000",
          "2024-10-21T12:00:00.000000000",
          "2024-10-21T16:00:00.000000000",
          "2024-10-21T20:00:00.000000000",
          "2024-10-22T00:00:00.000000000",
          "2024-10-22T04:00:00.000000000",
          "2024-10-22T08:00:00.000000000",
          "2024-10-22T12:00:00.000000000",
          "2024-10-22T16:00:00.000000000",
          "2024-10-22T20:00:00.000000000",
          "2024-10-23T00:00:00.000000000",
          "2024-10-23T04:00:00.000000000",
          "2024-10-23T08:00:00.000000000",
          "2024-10-23T12:00:00.000000000",
          "2024-10-23T16:00:00.000000000",
          "2024-10-23T20:00:00.000000000",
          "2024-10-24T00:00:00.000000000",
          "2024-10-24T04:00:00.000000000",
          "2024-10-24T08:00:00.000000000",
          "2024-10-24T12:00:00.000000000",
          "2024-10-24T16:00:00.000000000",
          "2024-10-24T20:00:00.000000000",
          "2024-10-25T00:00:00.000000000",
          "2024-10-25T04:00:00.000000000",
          "2024-10-25T08:00:00.000000000",
          "2024-10-25T12:00:00.000000000",
          "2024-10-25T16:00:00.000000000",
          "2024-10-25T20:00:00.000000000",
          "2024-10-26T00:00:00.000000000",
          "2024-10-26T04:00:00.000000000",
          "2024-10-26T08:00:00.000000000",
          "2024-10-26T12:00:00.000000000",
          "2024-10-26T16:00:00.000000000",
          "2024-10-26T20:00:00.000000000",
          "2024-10-27T00:00:00.000000000",
          "2024-10-27T04:00:00.000000000",
          "2024-10-27T08:00:00.000000000",
          "2024-10-27T12:00:00.000000000",
          "2024-10-27T16:00:00.000000000",
          "2024-10-27T20:00:00.000000000",
          "2024-10-28T00:00:00.000000000",
          "2024-10-28T04:00:00.000000000",
          "2024-10-28T08:00:00.000000000",
          "2024-10-28T12:00:00.000000000",
          "2024-10-28T16:00:00.000000000",
          "2024-10-28T20:00:00.000000000",
          "2024-10-29T00:00:00.000000000",
          "2024-10-29T04:00:00.000000000",
          "2024-10-29T08:00:00.000000000",
          "2024-10-29T12:00:00.000000000",
          "2024-10-29T16:00:00.000000000",
          "2024-10-29T20:00:00.000000000",
          "2024-10-30T00:00:00.000000000",
          "2024-10-30T04:00:00.000000000",
          "2024-10-30T08:00:00.000000000",
          "2024-10-30T12:00:00.000000000",
          "2024-10-30T16:00:00.000000000",
          "2024-10-30T20:00:00.000000000",
          "2024-10-31T00:00:00.000000000",
          "2024-10-31T04:00:00.000000000",
          "2024-10-31T08:00:00.000000000",
          "2024-10-31T12:00:00.000000000",
          "2024-10-31T16:00:00.000000000",
          "2024-10-31T20:00:00.000000000",
          "2024-11-01T00:00:00.000000000",
          "2024-11-01T04:00:00.000000000",
          "2024-11-01T08:00:00.000000000",
          "2024-11-01T12:00:00.000000000",
          "2024-11-01T16:00:00.000000000",
          "2024-11-01T20:00:00.000000000",
          "2024-11-02T00:00:00.000000000",
          "2024-11-02T04:00:00.000000000",
          "2024-11-02T08:00:00.000000000",
          "2024-11-02T12:00:00.000000000",
          "2024-11-02T16:00:00.000000000",
          "2024-11-02T20:00:00.000000000",
          "2024-11-03T00:00:00.000000000",
          "2024-11-03T04:00:00.000000000",
          "2024-11-03T08:00:00.000000000"
         ],
         "xaxis": "x",
         "y": {
          "bdata": "rwBzAQwBeAASAE4A5ACnABYBewAYAGQA+ACjAAwBjQAlAGUACwG3AAsBiwAgAE0AAAGnAAgBqABAAFQAzgDRAOQA3ACIACEApQAgATIBtACOABYAngAtAQEBlgAcAD8A1QDUAN8AYwAYAF8AzwCwAPUAdgAPAFIA+ADFAPgAnwAbAFQA6wC3AOQAlgAoAEUAwADmABcBwQCOACgAlwCWASgBzQCNABgAowAxAScBawASAE0AzgCtAP4AgAAhAFcA6QCdAPUApAAkAE0ADgG0AA8BngARAE0A3AC/AC4BwQAfAEYA1gDPAEcB2gCSACgAoABEAUkBrQCKAB4AgQBEAfMAaQAdAEcA2wCnAOMAdAAYAE0AsQCcAPcAoAAgAE8AAQG+AA0BrwA/AF0A6gDXACYB5wB6AEAAwwDbAFAB3ACvACkAtwBhARwBugBrACgA5gA=",
          "dtype": "i2"
         },
         "yaxis": "y"
        },
        {
         "line": {
          "color": "green"
         },
         "marker": {
          "size": 10
         },
         "mode": "markers",
         "name": "Actual Value",
         "type": "scatter",
         "x": [
          "2024-11-03T08:00:00.000000000"
         ],
         "y": [
          230
         ]
        },
        {
         "line": {
          "color": "red"
         },
         "marker": {
          "size": 15,
          "symbol": "x"
         },
         "mode": "markers",
         "name": "Prediction",
         "type": "scatter",
         "x": [
          "2024-11-03T08:00:00.000000000"
         ],
         "y": [
          156.25
         ]
        }
       ],
       "layout": {
        "legend": {
         "tracegroupgap": 0
        },
        "template": {
         "data": {
          "bar": [
           {
            "error_x": {
             "color": "#2a3f5f"
            },
            "error_y": {
             "color": "#2a3f5f"
            },
            "marker": {
             "line": {
              "color": "white",
              "width": 0.5
             },
             "pattern": {
              "fillmode": "overlay",
              "size": 10,
              "solidity": 0.2
             }
            },
            "type": "bar"
           }
          ],
          "barpolar": [
           {
            "marker": {
             "line": {
              "color": "white",
              "width": 0.5
             },
             "pattern": {
              "fillmode": "overlay",
              "size": 10,
              "solidity": 0.2
             }
            },
            "type": "barpolar"
           }
          ],
          "carpet": [
           {
            "aaxis": {
             "endlinecolor": "#2a3f5f",
             "gridcolor": "#C8D4E3",
             "linecolor": "#C8D4E3",
             "minorgridcolor": "#C8D4E3",
             "startlinecolor": "#2a3f5f"
            },
            "baxis": {
             "endlinecolor": "#2a3f5f",
             "gridcolor": "#C8D4E3",
             "linecolor": "#C8D4E3",
             "minorgridcolor": "#C8D4E3",
             "startlinecolor": "#2a3f5f"
            },
            "type": "carpet"
           }
          ],
          "choropleth": [
           {
            "colorbar": {
             "outlinewidth": 0,
             "ticks": ""
            },
            "type": "choropleth"
           }
          ],
          "contour": [
           {
            "colorbar": {
             "outlinewidth": 0,
             "ticks": ""
            },
            "colorscale": [
             [
              0,
              "#0d0887"
             ],
             [
              0.1111111111111111,
              "#46039f"
             ],
             [
              0.2222222222222222,
              "#7201a8"
             ],
             [
              0.3333333333333333,
              "#9c179e"
             ],
             [
              0.4444444444444444,
              "#bd3786"
             ],
             [
              0.5555555555555556,
              "#d8576b"
             ],
             [
              0.6666666666666666,
              "#ed7953"
             ],
             [
              0.7777777777777778,
              "#fb9f3a"
             ],
             [
              0.8888888888888888,
              "#fdca26"
             ],
             [
              1,
              "#f0f921"
             ]
            ],
            "type": "contour"
           }
          ],
          "contourcarpet": [
           {
            "colorbar": {
             "outlinewidth": 0,
             "ticks": ""
            },
            "type": "contourcarpet"
           }
          ],
          "heatmap": [
           {
            "colorbar": {
             "outlinewidth": 0,
             "ticks": ""
            },
            "colorscale": [
             [
              0,
              "#0d0887"
             ],
             [
              0.1111111111111111,
              "#46039f"
             ],
             [
              0.2222222222222222,
              "#7201a8"
             ],
             [
              0.3333333333333333,
              "#9c179e"
             ],
             [
              0.4444444444444444,
              "#bd3786"
             ],
             [
              0.5555555555555556,
              "#d8576b"
             ],
             [
              0.6666666666666666,
              "#ed7953"
             ],
             [
              0.7777777777777778,
              "#fb9f3a"
             ],
             [
              0.8888888888888888,
              "#fdca26"
             ],
             [
              1,
              "#f0f921"
             ]
            ],
            "type": "heatmap"
           }
          ],
          "histogram": [
           {
            "marker": {
             "pattern": {
              "fillmode": "overlay",
              "size": 10,
              "solidity": 0.2
             }
            },
            "type": "histogram"
           }
          ],
          "histogram2d": [
           {
            "colorbar": {
             "outlinewidth": 0,
             "ticks": ""
            },
            "colorscale": [
             [
              0,
              "#0d0887"
             ],
             [
              0.1111111111111111,
              "#46039f"
             ],
             [
              0.2222222222222222,
              "#7201a8"
             ],
             [
              0.3333333333333333,
              "#9c179e"
             ],
             [
              0.4444444444444444,
              "#bd3786"
             ],
             [
              0.5555555555555556,
              "#d8576b"
             ],
             [
              0.6666666666666666,
              "#ed7953"
             ],
             [
              0.7777777777777778,
              "#fb9f3a"
             ],
             [
              0.8888888888888888,
              "#fdca26"
             ],
             [
              1,
              "#f0f921"
             ]
            ],
            "type": "histogram2d"
           }
          ],
          "histogram2dcontour": [
           {
            "colorbar": {
             "outlinewidth": 0,
             "ticks": ""
            },
            "colorscale": [
             [
              0,
              "#0d0887"
             ],
             [
              0.1111111111111111,
              "#46039f"
             ],
             [
              0.2222222222222222,
              "#7201a8"
             ],
             [
              0.3333333333333333,
              "#9c179e"
             ],
             [
              0.4444444444444444,
              "#bd3786"
             ],
             [
              0.5555555555555556,
              "#d8576b"
             ],
             [
              0.6666666666666666,
              "#ed7953"
             ],
             [
              0.7777777777777778,
              "#fb9f3a"
             ],
             [
              0.8888888888888888,
              "#fdca26"
             ],
             [
              1,
              "#f0f921"
             ]
            ],
            "type": "histogram2dcontour"
           }
          ],
          "mesh3d": [
           {
            "colorbar": {
             "outlinewidth": 0,
             "ticks": ""
            },
            "type": "mesh3d"
           }
          ],
          "parcoords": [
           {
            "line": {
             "colorbar": {
              "outlinewidth": 0,
              "ticks": ""
             }
            },
            "type": "parcoords"
           }
          ],
          "pie": [
           {
            "automargin": true,
            "type": "pie"
           }
          ],
          "scatter": [
           {
            "fillpattern": {
             "fillmode": "overlay",
             "size": 10,
             "solidity": 0.2
            },
            "type": "scatter"
           }
          ],
          "scatter3d": [
           {
            "line": {
             "colorbar": {
              "outlinewidth": 0,
              "ticks": ""
             }
            },
            "marker": {
             "colorbar": {
              "outlinewidth": 0,
              "ticks": ""
             }
            },
            "type": "scatter3d"
           }
          ],
          "scattercarpet": [
           {
            "marker": {
             "colorbar": {
              "outlinewidth": 0,
              "ticks": ""
             }
            },
            "type": "scattercarpet"
           }
          ],
          "scattergeo": [
           {
            "marker": {
             "colorbar": {
              "outlinewidth": 0,
              "ticks": ""
             }
            },
            "type": "scattergeo"
           }
          ],
          "scattergl": [
           {
            "marker": {
             "colorbar": {
              "outlinewidth": 0,
              "ticks": ""
             }
            },
            "type": "scattergl"
           }
          ],
          "scattermap": [
           {
            "marker": {
             "colorbar": {
              "outlinewidth": 0,
              "ticks": ""
             }
            },
            "type": "scattermap"
           }
          ],
          "scattermapbox": [
           {
            "marker": {
             "colorbar": {
              "outlinewidth": 0,
              "ticks": ""
             }
            },
            "type": "scattermapbox"
           }
          ],
          "scatterpolar": [
           {
            "marker": {
             "colorbar": {
              "outlinewidth": 0,
              "ticks": ""
             }
            },
            "type": "scatterpolar"
           }
          ],
          "scatterpolargl": [
           {
            "marker": {
             "colorbar": {
              "outlinewidth": 0,
              "ticks": ""
             }
            },
            "type": "scatterpolargl"
           }
          ],
          "scatterternary": [
           {
            "marker": {
             "colorbar": {
              "outlinewidth": 0,
              "ticks": ""
             }
            },
            "type": "scatterternary"
           }
          ],
          "surface": [
           {
            "colorbar": {
             "outlinewidth": 0,
             "ticks": ""
            },
            "colorscale": [
             [
              0,
              "#0d0887"
             ],
             [
              0.1111111111111111,
              "#46039f"
             ],
             [
              0.2222222222222222,
              "#7201a8"
             ],
             [
              0.3333333333333333,
              "#9c179e"
             ],
             [
              0.4444444444444444,
              "#bd3786"
             ],
             [
              0.5555555555555556,
              "#d8576b"
             ],
             [
              0.6666666666666666,
              "#ed7953"
             ],
             [
              0.7777777777777778,
              "#fb9f3a"
             ],
             [
              0.8888888888888888,
              "#fdca26"
             ],
             [
              1,
              "#f0f921"
             ]
            ],
            "type": "surface"
           }
          ],
          "table": [
           {
            "cells": {
             "fill": {
              "color": "#EBF0F8"
             },
             "line": {
              "color": "white"
             }
            },
            "header": {
             "fill": {
              "color": "#C8D4E3"
             },
             "line": {
              "color": "white"
             }
            },
            "type": "table"
           }
          ]
         },
         "layout": {
          "annotationdefaults": {
           "arrowcolor": "#2a3f5f",
           "arrowhead": 0,
           "arrowwidth": 1
          },
          "autotypenumbers": "strict",
          "coloraxis": {
           "colorbar": {
            "outlinewidth": 0,
            "ticks": ""
           }
          },
          "colorscale": {
           "diverging": [
            [
             0,
             "#8e0152"
            ],
            [
             0.1,
             "#c51b7d"
            ],
            [
             0.2,
             "#de77ae"
            ],
            [
             0.3,
             "#f1b6da"
            ],
            [
             0.4,
             "#fde0ef"
            ],
            [
             0.5,
             "#f7f7f7"
            ],
            [
             0.6,
             "#e6f5d0"
            ],
            [
             0.7,
             "#b8e186"
            ],
            [
             0.8,
             "#7fbc41"
            ],
            [
             0.9,
             "#4d9221"
            ],
            [
             1,
             "#276419"
            ]
           ],
           "sequential": [
            [
             0,
             "#0d0887"
            ],
            [
             0.1111111111111111,
             "#46039f"
            ],
            [
             0.2222222222222222,
             "#7201a8"
            ],
            [
             0.3333333333333333,
             "#9c179e"
            ],
            [
             0.4444444444444444,
             "#bd3786"
            ],
            [
             0.5555555555555556,
             "#d8576b"
            ],
            [
             0.6666666666666666,
             "#ed7953"
            ],
            [
             0.7777777777777778,
             "#fb9f3a"
            ],
            [
             0.8888888888888888,
             "#fdca26"
            ],
            [
             1,
             "#f0f921"
            ]
           ],
           "sequentialminus": [
            [
             0,
             "#0d0887"
            ],
            [
             0.1111111111111111,
             "#46039f"
            ],
            [
             0.2222222222222222,
             "#7201a8"
            ],
            [
             0.3333333333333333,
             "#9c179e"
            ],
            [
             0.4444444444444444,
             "#bd3786"
            ],
            [
             0.5555555555555556,
             "#d8576b"
            ],
            [
             0.6666666666666666,
             "#ed7953"
            ],
            [
             0.7777777777777778,
             "#fb9f3a"
            ],
            [
             0.8888888888888888,
             "#fdca26"
            ],
            [
             1,
             "#f0f921"
            ]
           ]
          },
          "colorway": [
           "#636efa",
           "#EF553B",
           "#00cc96",
           "#ab63fa",
           "#FFA15A",
           "#19d3f3",
           "#FF6692",
           "#B6E880",
           "#FF97FF",
           "#FECB52"
          ],
          "font": {
           "color": "#2a3f5f"
          },
          "geo": {
           "bgcolor": "white",
           "lakecolor": "white",
           "landcolor": "white",
           "showlakes": true,
           "showland": true,
           "subunitcolor": "#C8D4E3"
          },
          "hoverlabel": {
           "align": "left"
          },
          "hovermode": "closest",
          "mapbox": {
           "style": "light"
          },
          "paper_bgcolor": "white",
          "plot_bgcolor": "white",
          "polar": {
           "angularaxis": {
            "gridcolor": "#EBF0F8",
            "linecolor": "#EBF0F8",
            "ticks": ""
           },
           "bgcolor": "white",
           "radialaxis": {
            "gridcolor": "#EBF0F8",
            "linecolor": "#EBF0F8",
            "ticks": ""
           }
          },
          "scene": {
           "xaxis": {
            "backgroundcolor": "white",
            "gridcolor": "#DFE8F3",
            "gridwidth": 2,
            "linecolor": "#EBF0F8",
            "showbackground": true,
            "ticks": "",
            "zerolinecolor": "#EBF0F8"
           },
           "yaxis": {
            "backgroundcolor": "white",
            "gridcolor": "#DFE8F3",
            "gridwidth": 2,
            "linecolor": "#EBF0F8",
            "showbackground": true,
            "ticks": "",
            "zerolinecolor": "#EBF0F8"
           },
           "zaxis": {
            "backgroundcolor": "white",
            "gridcolor": "#DFE8F3",
            "gridwidth": 2,
            "linecolor": "#EBF0F8",
            "showbackground": true,
            "ticks": "",
            "zerolinecolor": "#EBF0F8"
           }
          },
          "shapedefaults": {
           "line": {
            "color": "#2a3f5f"
           }
          },
          "ternary": {
           "aaxis": {
            "gridcolor": "#DFE8F3",
            "linecolor": "#A2B1C6",
            "ticks": ""
           },
           "baxis": {
            "gridcolor": "#DFE8F3",
            "linecolor": "#A2B1C6",
            "ticks": ""
           },
           "bgcolor": "white",
           "caxis": {
            "gridcolor": "#DFE8F3",
            "linecolor": "#A2B1C6",
            "ticks": ""
           }
          },
          "title": {
           "x": 0.05
          },
          "xaxis": {
           "automargin": true,
           "gridcolor": "#EBF0F8",
           "linecolor": "#EBF0F8",
           "ticks": "",
           "title": {
            "standoff": 15
           },
           "zerolinecolor": "#EBF0F8",
           "zerolinewidth": 2
          },
          "yaxis": {
           "automargin": true,
           "gridcolor": "#EBF0F8",
           "linecolor": "#EBF0F8",
           "ticks": "",
           "title": {
            "standoff": 15
           },
           "zerolinecolor": "#EBF0F8",
           "zerolinewidth": 2
          }
         }
        },
        "title": {
         "text": "Pickup Hour: 2024-11-03 08:00:00, Location ID: 5626"
        },
        "xaxis": {
         "anchor": "y",
         "domain": [
          0,
          1
         ],
         "title": {
          "text": "Time"
         }
        },
        "yaxis": {
         "anchor": "x",
         "domain": [
          0,
          1
         ],
         "title": {
          "text": "Ride Counts"
         }
        }
       }
      }
     },
     "metadata": {},
     "output_type": "display_data"
    }
   ],
   "source": [
    "from src.plot_utils import plot_aggregated_time_series\n",
    "\n",
    "plot_aggregated_time_series(X_test, y_test, 200, predictions)"
   ]
  },
  {
   "cell_type": "code",
   "execution_count": null,
   "id": "462e016a-a21d-4ca1-8470-df5d02992934",
   "metadata": {},
   "outputs": [],
   "source": []
  }
 ],
 "metadata": {
  "kernelspec": {
   "display_name": "my_proj_cda500_env",
   "language": "python",
   "name": "python3"
  },
  "language_info": {
   "codemirror_mode": {
    "name": "ipython",
    "version": 3
   },
   "file_extension": ".py",
   "mimetype": "text/x-python",
   "name": "python",
   "nbconvert_exporter": "python",
   "pygments_lexer": "ipython3",
   "version": "3.10.16"
  }
 },
 "nbformat": 4,
 "nbformat_minor": 5
}
